{
  "nbformat": 4,
  "nbformat_minor": 0,
  "metadata": {
    "kernelspec": {
      "display_name": "Python 3 (UM)",
      "language": "python",
      "name": "logging"
    },
    "language_info": {
      "file_extension": ".py",
      "mimetype": "text/x-python",
      "name": "python"
    },
    "colab": {
      "name": "C_M1W1.ipynb",
      "provenance": [],
      "include_colab_link": true
    }
  },
  "cells": [
    {
      "cell_type": "markdown",
      "metadata": {
        "id": "view-in-github",
        "colab_type": "text"
      },
      "source": [
        "<a href=\"https://colab.research.google.com/github/maab2198/applied_ds_python/blob/master/C_M1W1.ipynb\" target=\"_parent\"><img src=\"https://colab.research.google.com/assets/colab-badge.svg\" alt=\"Open In Colab\"/></a>"
      ]
    },
    {
      "cell_type": "markdown",
      "metadata": {
        "id": "v_3ryulOtdRR",
        "colab_type": "text"
      },
      "source": [
        "#Introduction to Data Science in Python\n",
        "##Week 1: The Python Programming Language"
      ]
    },
    {
      "cell_type": "markdown",
      "metadata": {
        "id": "sNb28s0ntdRW",
        "colab_type": "text"
      },
      "source": [
        "##Functions"
      ]
    },
    {
      "cell_type": "markdown",
      "metadata": {
        "id": "QVyCK5wStdRg",
        "colab_type": "text"
      },
      "source": [
        "<br>\n",
        "`add_numbers` updated to take an optional 3rd parameter. Using `print` allows printing of multiple expressions within a single cell."
      ]
    },
    {
      "cell_type": "code",
      "metadata": {
        "id": "qLGJ-5TTtdRh",
        "colab_type": "code",
        "colab": {}
      },
      "source": [
        "def add_numbers(x,y,z=None):\n",
        "    if (z==None):\n",
        "        return x+y\n",
        "    else:\n",
        "        return x+y+z\n",
        "\n",
        "print(add_numbers(1, 2))\n",
        "print(add_numbers(1, 2, 3))"
      ],
      "execution_count": 0,
      "outputs": []
    },
    {
      "cell_type": "markdown",
      "metadata": {
        "id": "yMq_kp3TtdRn",
        "colab_type": "text"
      },
      "source": [
        "<br>\n",
        "`add_numbers` updated to take an optional flag parameter."
      ]
    },
    {
      "cell_type": "code",
      "metadata": {
        "id": "q-llyziotdRo",
        "colab_type": "code",
        "colab": {}
      },
      "source": [
        "def add_numbers(x, y, z=None, flag=False):\n",
        "    if (flag):\n",
        "        print('Flag is true!')\n",
        "    if (z==None):\n",
        "        return x + y\n",
        "    else:\n",
        "        return x + y + z\n",
        "    \n",
        "print(add_numbers(1, 2, flag=True))"
      ],
      "execution_count": 0,
      "outputs": []
    },
    {
      "cell_type": "markdown",
      "metadata": {
        "id": "W9MEhr_TtdRt",
        "colab_type": "text"
      },
      "source": [
        "<br>\n",
        "Assign function `add_numbers` to variable `a`."
      ]
    },
    {
      "cell_type": "code",
      "metadata": {
        "id": "BLcT01jGtdRv",
        "colab_type": "code",
        "outputId": "a4f6b8ea-69be-4ef3-a2db-46462044a008",
        "colab": {
          "base_uri": "https://localhost:8080/",
          "height": 34
        }
      },
      "source": [
        "def add_numbers(x,y):\n",
        "    return x+y\n",
        "\n",
        "a = add_numbers\n",
        "a(1,2)"
      ],
      "execution_count": 0,
      "outputs": [
        {
          "output_type": "execute_result",
          "data": {
            "text/plain": [
              "3"
            ]
          },
          "metadata": {
            "tags": []
          },
          "execution_count": 6
        }
      ]
    },
    {
      "cell_type": "code",
      "metadata": {
        "colab_type": "code",
        "id": "ZnJa3X1aVx0h",
        "outputId": "35dbd03b-21fd-4f9d-beb0-acdf8a765330",
        "colab": {
          "base_uri": "https://localhost:8080/",
          "height": 34
        }
      },
      "source": [
        "x = (1, 'a', 2, 'b')\n",
        "type(x)"
      ],
      "execution_count": 0,
      "outputs": [
        {
          "output_type": "execute_result",
          "data": {
            "text/plain": [
              "tuple"
            ]
          },
          "metadata": {
            "tags": []
          },
          "execution_count": 11
        }
      ]
    },
    {
      "cell_type": "markdown",
      "metadata": {
        "id": "3D5O0DwwtdSh",
        "colab_type": "text"
      },
      "source": [
        "<br>\n",
        "Use `append` to append an object to a list."
      ]
    },
    {
      "cell_type": "code",
      "metadata": {
        "id": "udwoiDgFtdSj",
        "colab_type": "code",
        "outputId": "c73b8244-9303-47e5-dd93-77e81da33ac0",
        "colab": {
          "base_uri": "https://localhost:8080/",
          "height": 180
        }
      },
      "source": [
        "x.append(3.3)\n",
        "print(x)"
      ],
      "execution_count": 0,
      "outputs": [
        {
          "output_type": "error",
          "ename": "AttributeError",
          "evalue": "ignored",
          "traceback": [
            "\u001b[0;31m---------------------------------------------------------------------------\u001b[0m",
            "\u001b[0;31mAttributeError\u001b[0m                            Traceback (most recent call last)",
            "\u001b[0;32m<ipython-input-12-90a846794e58>\u001b[0m in \u001b[0;36m<module>\u001b[0;34m()\u001b[0m\n\u001b[0;32m----> 1\u001b[0;31m \u001b[0mx\u001b[0m\u001b[0;34m.\u001b[0m\u001b[0mappend\u001b[0m\u001b[0;34m(\u001b[0m\u001b[0;36m3.3\u001b[0m\u001b[0;34m)\u001b[0m\u001b[0;34m\u001b[0m\u001b[0;34m\u001b[0m\u001b[0m\n\u001b[0m\u001b[1;32m      2\u001b[0m \u001b[0mprint\u001b[0m\u001b[0;34m(\u001b[0m\u001b[0mx\u001b[0m\u001b[0;34m)\u001b[0m\u001b[0;34m\u001b[0m\u001b[0;34m\u001b[0m\u001b[0m\n",
            "\u001b[0;31mAttributeError\u001b[0m: 'tuple' object has no attribute 'append'"
          ]
        }
      ]
    },
    {
      "cell_type": "markdown",
      "metadata": {
        "id": "VonFNl_xtdTH",
        "colab_type": "text"
      },
      "source": [
        "<br>\n",
        "Use the `in` operator to check if something is inside a list."
      ]
    },
    {
      "cell_type": "code",
      "metadata": {
        "id": "nvuYobVwtdTJ",
        "colab_type": "code",
        "outputId": "a2ebbf79-db09-4d88-c7f1-1be709336f59",
        "colab": {
          "base_uri": "https://localhost:8080/",
          "height": 34
        }
      },
      "source": [
        "1 in [1, 2, 3]"
      ],
      "execution_count": 0,
      "outputs": [
        {
          "output_type": "execute_result",
          "data": {
            "text/plain": [
              "True"
            ]
          },
          "metadata": {
            "tags": []
          },
          "execution_count": 13
        }
      ]
    },
    {
      "cell_type": "code",
      "metadata": {
        "id": "1ACa_KLStdTw",
        "colab_type": "code",
        "outputId": "815255de-1b29-46ec-beb7-db666eeca1db",
        "colab": {
          "base_uri": "https://localhost:8080/",
          "height": 68
        }
      },
      "source": [
        "firstname = 'Christopher'\n",
        "lastname = 'Brooks'\n",
        "\n",
        "print(firstname + ' ' + lastname)\n",
        "print(firstname*3)\n",
        "print('Chris' in firstname)\n"
      ],
      "execution_count": 0,
      "outputs": [
        {
          "output_type": "stream",
          "text": [
            "Christopher Brooks\n",
            "ChristopherChristopherChristopher\n",
            "True\n"
          ],
          "name": "stdout"
        }
      ]
    },
    {
      "cell_type": "markdown",
      "metadata": {
        "id": "vsJlYwvFtdT5",
        "colab_type": "text"
      },
      "source": [
        "<br>\n",
        "Make sure you convert objects to strings before concatenating."
      ]
    },
    {
      "cell_type": "code",
      "metadata": {
        "id": "dDTrBchhtdT7",
        "colab_type": "code",
        "outputId": "d9437fef-6ee8-465d-ad36-5056cfc4fb9c",
        "colab": {
          "base_uri": "https://localhost:8080/",
          "height": 163
        }
      },
      "source": [
        "'Chris' + 2"
      ],
      "execution_count": 0,
      "outputs": [
        {
          "output_type": "error",
          "ename": "TypeError",
          "evalue": "ignored",
          "traceback": [
            "\u001b[0;31m---------------------------------------------------------------------------\u001b[0m",
            "\u001b[0;31mTypeError\u001b[0m                                 Traceback (most recent call last)",
            "\u001b[0;32m<ipython-input-15-9d01956b24db>\u001b[0m in \u001b[0;36m<module>\u001b[0;34m()\u001b[0m\n\u001b[0;32m----> 1\u001b[0;31m \u001b[0;34m'Chris'\u001b[0m \u001b[0;34m+\u001b[0m \u001b[0;36m2\u001b[0m\u001b[0;34m\u001b[0m\u001b[0;34m\u001b[0m\u001b[0m\n\u001b[0m",
            "\u001b[0;31mTypeError\u001b[0m: must be str, not int"
          ]
        }
      ]
    },
    {
      "cell_type": "code",
      "metadata": {
        "id": "fG61htH7tdT_",
        "colab_type": "code",
        "colab": {}
      },
      "source": [
        "'Chris' + str(2)"
      ],
      "execution_count": 0,
      "outputs": []
    },
    {
      "cell_type": "markdown",
      "metadata": {
        "id": "mipZq-3PtdUD",
        "colab_type": "text"
      },
      "source": [
        "## Dictionaries \n",
        "Dictionaries associate keys with values."
      ]
    },
    {
      "cell_type": "code",
      "metadata": {
        "id": "Dg_P8kTWtdUE",
        "colab_type": "code",
        "outputId": "007cad58-625c-4e44-ed08-17aa5d1e5a57",
        "colab": {
          "base_uri": "https://localhost:8080/",
          "height": 34
        }
      },
      "source": [
        "x = {'Christopher Brooks': 'brooksch@umich.edu', 'Bill Gates': 'billg@microsoft.com'}\n",
        "x['Christopher Brooks'] # Retrieve a value by using the indexing operator\n"
      ],
      "execution_count": 0,
      "outputs": [
        {
          "output_type": "execute_result",
          "data": {
            "text/plain": [
              "'brooksch@umich.edu'"
            ]
          },
          "metadata": {
            "tags": []
          },
          "execution_count": 17
        }
      ]
    },
    {
      "cell_type": "code",
      "metadata": {
        "id": "qws2r2qJtdUJ",
        "colab_type": "code",
        "colab": {}
      },
      "source": [
        "x['Kevyn Collins-Thompson'] = None\n",
        "x['Kevyn Collins-Thompson']"
      ],
      "execution_count": 0,
      "outputs": []
    },
    {
      "cell_type": "markdown",
      "metadata": {
        "id": "xcPTYxPNtdUN",
        "colab_type": "text"
      },
      "source": [
        "<br>\n",
        "Iterate over all of the keys:"
      ]
    },
    {
      "cell_type": "code",
      "metadata": {
        "scrolled": true,
        "id": "q1AzcPY_tdUP",
        "colab_type": "code",
        "colab": {}
      },
      "source": [
        "for name in x:\n",
        "    print(x[name])"
      ],
      "execution_count": 0,
      "outputs": []
    },
    {
      "cell_type": "markdown",
      "metadata": {
        "id": "OfHx02tjtdUT",
        "colab_type": "text"
      },
      "source": [
        "<br>\n",
        "Iterate over all of the values:"
      ]
    },
    {
      "cell_type": "code",
      "metadata": {
        "id": "eR6bK-WbtdUU",
        "colab_type": "code",
        "colab": {}
      },
      "source": [
        "for email in x.values():\n",
        "    print(email)"
      ],
      "execution_count": 0,
      "outputs": []
    },
    {
      "cell_type": "markdown",
      "metadata": {
        "id": "rEU8P1JwtdUY",
        "colab_type": "text"
      },
      "source": [
        "<br>\n",
        "Iterate over all of the items in the list:"
      ]
    },
    {
      "cell_type": "code",
      "metadata": {
        "id": "6LkSmL5YtdUZ",
        "colab_type": "code",
        "colab": {}
      },
      "source": [
        "for name, email in x.items():\n",
        "    print(name)\n",
        "    print(email)"
      ],
      "execution_count": 0,
      "outputs": []
    },
    {
      "cell_type": "markdown",
      "metadata": {
        "id": "BMtSbHKCtdUc",
        "colab_type": "text"
      },
      "source": [
        "<br>\n",
        "You can unpack a sequence into different variables:"
      ]
    },
    {
      "cell_type": "code",
      "metadata": {
        "id": "3m-ap6DltdUe",
        "colab_type": "code",
        "colab": {}
      },
      "source": [
        "x = ('Christopher', 'Brooks', 'brooksch@umich.edu')\n",
        "fname, lname, email = x"
      ],
      "execution_count": 0,
      "outputs": []
    },
    {
      "cell_type": "code",
      "metadata": {
        "id": "xa0LVsUatdUl",
        "colab_type": "code",
        "colab": {}
      },
      "source": [
        "fname"
      ],
      "execution_count": 0,
      "outputs": []
    },
    {
      "cell_type": "code",
      "metadata": {
        "id": "V_eaRMNjtdUx",
        "colab_type": "code",
        "colab": {}
      },
      "source": [
        "lname"
      ],
      "execution_count": 0,
      "outputs": []
    },
    {
      "cell_type": "markdown",
      "metadata": {
        "id": "gnTMbb_1tdU3",
        "colab_type": "text"
      },
      "source": [
        "<br>\n",
        "Make sure the number of values you are unpacking matches the number of variables being assigned."
      ]
    },
    {
      "cell_type": "code",
      "metadata": {
        "id": "mcBsAiVctdU4",
        "colab_type": "code",
        "colab": {}
      },
      "source": [
        "x = ('Christopher', 'Brooks', 'brooksch@umich.edu', 'Ann Arbor')\n",
        "fname, lname, email = x"
      ],
      "execution_count": 0,
      "outputs": []
    },
    {
      "cell_type": "markdown",
      "metadata": {
        "id": "784BDz_gtdU7",
        "colab_type": "text"
      },
      "source": [
        "##Strings"
      ]
    },
    {
      "cell_type": "markdown",
      "metadata": {
        "id": "JfC7FMJCtdVD",
        "colab_type": "text"
      },
      "source": [
        "Python has a built in method for convenient string formatting."
      ]
    },
    {
      "cell_type": "code",
      "metadata": {
        "id": "HfJKRITetdVE",
        "colab_type": "code",
        "colab": {}
      },
      "source": [
        "sales_record = {\n",
        "'price': 3.24,\n",
        "'num_items': 4,\n",
        "'person': 'Chris'}\n",
        "\n",
        "sales_statement = '{} bought {} item(s) at a price of {} each for a total of {}'\n",
        "\n",
        "print(sales_statement.format(sales_record['person'],\n",
        "                             sales_record['num_items'],\n",
        "                             sales_record['price'],\n",
        "                             sales_record['num_items']*sales_record['price']))\n"
      ],
      "execution_count": 0,
      "outputs": []
    },
    {
      "cell_type": "markdown",
      "metadata": {
        "id": "FxHfMZ_EtdVH",
        "colab_type": "text"
      },
      "source": [
        "\n",
        "## Reading and Writing CSV files"
      ]
    },
    {
      "cell_type": "markdown",
      "metadata": {
        "id": "jp6DyBP3tdVI",
        "colab_type": "text"
      },
      "source": [
        "Let's import our datafile mpg.csv, which contains fuel economy data for 234 cars.\n",
        "\n",
        "* mpg : miles per gallon\n",
        "* class : car classification\n",
        "* cty : city mpg\n",
        "* cyl : # of cylinders\n",
        "* displ : engine displacement in liters\n",
        "* drv : f = front-wheel drive, r = rear wheel drive, 4 = 4wd\n",
        "* fl : fuel (e = ethanol E85, d = diesel, r = regular, p = premium, c = CNG)\n",
        "* hwy : highway mpg\n",
        "* manufacturer : automobile manufacturer\n",
        "* model : model of car\n",
        "* trans : type of transmission\n",
        "* year : model year"
      ]
    },
    {
      "cell_type": "code",
      "metadata": {
        "scrolled": true,
        "id": "3l-DGTzOtdVJ",
        "colab_type": "code",
        "outputId": "1f8f3108-7140-422b-f19d-a2e147edeebd",
        "colab": {
          "base_uri": "https://localhost:8080/",
          "height": 602
        }
      },
      "source": [
        "import csv\n",
        "\n",
        "%precision 2\n",
        "\n",
        "with open('mpg.csv') as csvfile:\n",
        "    mpg = list(csv.DictReader(csvfile))\n",
        "    \n",
        "mpg[:3] # The first three dictionaries in our list."
      ],
      "execution_count": 0,
      "outputs": [
        {
          "output_type": "execute_result",
          "data": {
            "text/plain": [
              "[OrderedDict([('', '1'),\n",
              "              ('manufacturer', 'audi'),\n",
              "              ('model', 'a4'),\n",
              "              ('displ', '1.8'),\n",
              "              ('year', '1999'),\n",
              "              ('cyl', '4'),\n",
              "              ('trans', 'auto(l5)'),\n",
              "              ('drv', 'f'),\n",
              "              ('cty', '18'),\n",
              "              ('hwy', '29'),\n",
              "              ('fl', 'p'),\n",
              "              ('class', 'compact')]),\n",
              " OrderedDict([('', '2'),\n",
              "              ('manufacturer', 'audi'),\n",
              "              ('model', 'a4'),\n",
              "              ('displ', '1.8'),\n",
              "              ('year', '1999'),\n",
              "              ('cyl', '4'),\n",
              "              ('trans', 'manual(m5)'),\n",
              "              ('drv', 'f'),\n",
              "              ('cty', '21'),\n",
              "              ('hwy', '29'),\n",
              "              ('fl', 'p'),\n",
              "              ('class', 'compact')]),\n",
              " OrderedDict([('', '3'),\n",
              "              ('manufacturer', 'audi'),\n",
              "              ('model', 'a4'),\n",
              "              ('displ', '2'),\n",
              "              ('year', '2008'),\n",
              "              ('cyl', '4'),\n",
              "              ('trans', 'manual(m6)'),\n",
              "              ('drv', 'f'),\n",
              "              ('cty', '20'),\n",
              "              ('hwy', '31'),\n",
              "              ('fl', 'p'),\n",
              "              ('class', 'compact')])]"
            ]
          },
          "metadata": {
            "tags": []
          },
          "execution_count": 22
        }
      ]
    },
    {
      "cell_type": "markdown",
      "metadata": {
        "id": "AQlWtkL4tdVO",
        "colab_type": "text"
      },
      "source": [
        "<br>\n",
        "`csv.Dictreader` has read in each row of our csv file as a dictionary. `len` shows that our list is comprised of 234 dictionaries."
      ]
    },
    {
      "cell_type": "code",
      "metadata": {
        "id": "xHdUMpOvtdVQ",
        "colab_type": "code",
        "outputId": "27a26bf0-c4ef-4258-9c75-a3012666c4ce",
        "colab": {
          "base_uri": "https://localhost:8080/",
          "height": 33
        }
      },
      "source": [
        "len(mpg)"
      ],
      "execution_count": 0,
      "outputs": [
        {
          "output_type": "execute_result",
          "data": {
            "text/plain": [
              "234"
            ]
          },
          "metadata": {
            "tags": []
          },
          "execution_count": 23
        }
      ]
    },
    {
      "cell_type": "markdown",
      "metadata": {
        "id": "V2CuPnzOtdVS",
        "colab_type": "text"
      },
      "source": [
        "<br>\n",
        "`keys` gives us the column names of our csv."
      ]
    },
    {
      "cell_type": "code",
      "metadata": {
        "id": "bw43OqkstdVT",
        "colab_type": "code",
        "outputId": "e967b628-6ef6-480c-d87c-6baaf1429d15",
        "colab": {
          "base_uri": "https://localhost:8080/",
          "height": 53
        }
      },
      "source": [
        "mpg[0].keys()"
      ],
      "execution_count": 0,
      "outputs": [
        {
          "output_type": "execute_result",
          "data": {
            "text/plain": [
              "odict_keys(['', 'manufacturer', 'model', 'displ', 'year', 'cyl', 'trans', 'drv', 'cty', 'hwy', 'fl', 'class'])"
            ]
          },
          "metadata": {
            "tags": []
          },
          "execution_count": 24
        }
      ]
    },
    {
      "cell_type": "markdown",
      "metadata": {
        "id": "iJtMTOVdtdVX",
        "colab_type": "text"
      },
      "source": [
        "<br>\n",
        "This is how to find the average cty fuel economy across all cars. All values in the dictionaries are strings, so we need to convert to float."
      ]
    },
    {
      "cell_type": "code",
      "metadata": {
        "id": "BfUIfSyCtdVX",
        "colab_type": "code",
        "outputId": "f62b2cdf-6e51-4a59-f498-cfd0f14b5f4f",
        "colab": {
          "base_uri": "https://localhost:8080/",
          "height": 33
        }
      },
      "source": [
        "sum(float(d['cty']) for d in mpg) / len(mpg)"
      ],
      "execution_count": 0,
      "outputs": [
        {
          "output_type": "execute_result",
          "data": {
            "text/plain": [
              "16.86"
            ]
          },
          "metadata": {
            "tags": []
          },
          "execution_count": 25
        }
      ]
    },
    {
      "cell_type": "markdown",
      "metadata": {
        "id": "Tb40sDYdtdVc",
        "colab_type": "text"
      },
      "source": [
        "<br>\n",
        "Similarly this is how to find the average hwy fuel economy across all cars."
      ]
    },
    {
      "cell_type": "code",
      "metadata": {
        "id": "myV1u6witdVd",
        "colab_type": "code",
        "outputId": "7fb4b636-7a5c-4885-9d71-d76e97b2cfba",
        "colab": {
          "base_uri": "https://localhost:8080/",
          "height": 33
        }
      },
      "source": [
        "sum(float(d['hwy']) for d in mpg) / len(mpg)"
      ],
      "execution_count": 0,
      "outputs": [
        {
          "output_type": "execute_result",
          "data": {
            "text/plain": [
              "23.44"
            ]
          },
          "metadata": {
            "tags": []
          },
          "execution_count": 26
        }
      ]
    },
    {
      "cell_type": "markdown",
      "metadata": {
        "id": "IqZxdce1tdVh",
        "colab_type": "text"
      },
      "source": [
        "<br>\n",
        "Use `set` to return the unique values for the number of cylinders the cars in our dataset have."
      ]
    },
    {
      "cell_type": "code",
      "metadata": {
        "id": "PpRfeZRVtdVi",
        "colab_type": "code",
        "outputId": "893c9e9d-5938-40bb-8ba0-71328db9460c",
        "colab": {
          "base_uri": "https://localhost:8080/",
          "height": 33
        }
      },
      "source": [
        "cylinders = set(d['cyl'] for d in mpg)\n",
        "cylinders"
      ],
      "execution_count": 0,
      "outputs": [
        {
          "output_type": "execute_result",
          "data": {
            "text/plain": [
              "{'4', '5', '6', '8'}"
            ]
          },
          "metadata": {
            "tags": []
          },
          "execution_count": 27
        }
      ]
    },
    {
      "cell_type": "markdown",
      "metadata": {
        "id": "PsrWBhqQtdVl",
        "colab_type": "text"
      },
      "source": [
        "<br>\n",
        "Here's a more complex example where we are grouping the cars by number of cylinder, and finding the average cty mpg for each group."
      ]
    },
    {
      "cell_type": "code",
      "metadata": {
        "id": "yZOx6yJwtdVm",
        "colab_type": "code",
        "outputId": "83f21597-be65-492f-f8e5-3e7325c6a4b1",
        "colab": {
          "base_uri": "https://localhost:8080/",
          "height": 33
        }
      },
      "source": [
        "CtyMpgByCyl = []\n",
        "\n",
        "for c in cylinders: # iterate over all the cylinder levels\n",
        "    summpg = 0\n",
        "    cyltypecount = 0\n",
        "    for d in mpg: # iterate over all dictionaries\n",
        "        if d['cyl'] == c: # if the cylinder level type matches,\n",
        "            summpg += float(d['cty']) # add the cty mpg\n",
        "            cyltypecount += 1 # increment the count\n",
        "    CtyMpgByCyl.append((c, summpg / cyltypecount)) # append the tuple ('cylinder', 'avg mpg')\n",
        "\n",
        "CtyMpgByCyl.sort(key=lambda x: x[0])\n",
        "CtyMpgByCyl"
      ],
      "execution_count": 0,
      "outputs": [
        {
          "output_type": "execute_result",
          "data": {
            "text/plain": [
              "[('4', 21.01), ('5', 20.50), ('6', 16.22), ('8', 12.57)]"
            ]
          },
          "metadata": {
            "tags": []
          },
          "execution_count": 28
        }
      ]
    },
    {
      "cell_type": "markdown",
      "metadata": {
        "id": "us8rd7ePtdVr",
        "colab_type": "text"
      },
      "source": [
        "<br>\n",
        "Use `set` to return the unique values for the class types in our dataset."
      ]
    },
    {
      "cell_type": "code",
      "metadata": {
        "id": "A-knUEFctdVs",
        "colab_type": "code",
        "outputId": "4a019668-7a9e-43a0-e99d-2a2de3adff73",
        "colab": {
          "base_uri": "https://localhost:8080/",
          "height": 33
        }
      },
      "source": [
        "vehicleclass = set(d['class'] for d in mpg) # what are the class types\n",
        "vehicleclass"
      ],
      "execution_count": 0,
      "outputs": [
        {
          "output_type": "execute_result",
          "data": {
            "text/plain": [
              "{'2seater', 'compact', 'midsize', 'minivan', 'pickup', 'subcompact', 'suv'}"
            ]
          },
          "metadata": {
            "tags": []
          },
          "execution_count": 29
        }
      ]
    },
    {
      "cell_type": "markdown",
      "metadata": {
        "id": "7vNRhjbmtdVv",
        "colab_type": "text"
      },
      "source": [
        "<br>\n",
        "And here's an example of how to find the average hwy mpg for each class of vehicle in our dataset."
      ]
    },
    {
      "cell_type": "code",
      "metadata": {
        "id": "DxV-KswctdVv",
        "colab_type": "code",
        "outputId": "50bea0e7-ff4d-42ca-8dde-91496372d6c2",
        "colab": {
          "base_uri": "https://localhost:8080/",
          "height": 136
        }
      },
      "source": [
        "HwyMpgByClass = []\n",
        "\n",
        "for t in vehicleclass: # iterate over all the vehicle classes\n",
        "    summpg = 0\n",
        "    vclasscount = 0\n",
        "    for d in mpg: # iterate over all dictionaries\n",
        "        if d['class'] == t: # if the cylinder amount type matches,\n",
        "            summpg += float(d['hwy']) # add the hwy mpg\n",
        "            vclasscount += 1 # increment the count\n",
        "    HwyMpgByClass.append((t, summpg / vclasscount)) # append the tuple ('class', 'avg mpg')\n",
        "\n",
        "HwyMpgByClass.sort(key=lambda x: x[1])\n",
        "HwyMpgByClass"
      ],
      "execution_count": 0,
      "outputs": [
        {
          "output_type": "execute_result",
          "data": {
            "text/plain": [
              "[('pickup', 16.88),\n",
              " ('suv', 18.13),\n",
              " ('minivan', 22.36),\n",
              " ('2seater', 24.80),\n",
              " ('midsize', 27.29),\n",
              " ('subcompact', 28.14),\n",
              " ('compact', 28.30)]"
            ]
          },
          "metadata": {
            "tags": []
          },
          "execution_count": 30
        }
      ]
    },
    {
      "cell_type": "markdown",
      "metadata": {
        "id": "2UK2edqqtdV1",
        "colab_type": "text"
      },
      "source": [
        "\n",
        "## Dates and Times"
      ]
    },
    {
      "cell_type": "code",
      "metadata": {
        "id": "Ex2GoUF_tdV3",
        "colab_type": "code",
        "colab": {}
      },
      "source": [
        "import datetime as dt\n",
        "import time as tm"
      ],
      "execution_count": 0,
      "outputs": []
    },
    {
      "cell_type": "markdown",
      "metadata": {
        "id": "JgNrtCmftdV5",
        "colab_type": "text"
      },
      "source": [
        "<br>\n",
        "`time` returns the current time in seconds since the Epoch. (January 1st, 1970)"
      ]
    },
    {
      "cell_type": "code",
      "metadata": {
        "id": "gRRpUi0ytdV6",
        "colab_type": "code",
        "outputId": "3a04b552-f636-497d-e518-a6e6250cef8c",
        "colab": {
          "base_uri": "https://localhost:8080/",
          "height": 34
        }
      },
      "source": [
        "tm.time()"
      ],
      "execution_count": 0,
      "outputs": [
        {
          "output_type": "execute_result",
          "data": {
            "text/plain": [
              "1572702550.70"
            ]
          },
          "metadata": {
            "tags": []
          },
          "execution_count": 32
        }
      ]
    },
    {
      "cell_type": "markdown",
      "metadata": {
        "id": "LcwBRjNutdV-",
        "colab_type": "text"
      },
      "source": [
        "<br>\n",
        "Convert the timestamp to datetime."
      ]
    },
    {
      "cell_type": "code",
      "metadata": {
        "id": "gUyF3QfFtdV_",
        "colab_type": "code",
        "outputId": "4a9cbb44-9038-4d62-bd3f-d50755b92bf2",
        "colab": {
          "base_uri": "https://localhost:8080/",
          "height": 34
        }
      },
      "source": [
        "dtnow = dt.datetime.fromtimestamp(tm.time())\n",
        "dtnow"
      ],
      "execution_count": 0,
      "outputs": [
        {
          "output_type": "execute_result",
          "data": {
            "text/plain": [
              "datetime.datetime(2019, 11, 2, 13, 49, 15, 341451)"
            ]
          },
          "metadata": {
            "tags": []
          },
          "execution_count": 33
        }
      ]
    },
    {
      "cell_type": "markdown",
      "metadata": {
        "id": "Io6THQivtdWC",
        "colab_type": "text"
      },
      "source": [
        "<br>\n",
        "Handy datetime attributes:"
      ]
    },
    {
      "cell_type": "code",
      "metadata": {
        "id": "LK5VSLfltdWD",
        "colab_type": "code",
        "outputId": "a5ac52bf-6bf8-44cd-8a1d-941815c3fb7f",
        "colab": {
          "base_uri": "https://localhost:8080/",
          "height": 34
        }
      },
      "source": [
        "dtnow.year, dtnow.month, dtnow.day, dtnow.hour, dtnow.minute, dtnow.second # get year, month, day, etc.from a datetime"
      ],
      "execution_count": 0,
      "outputs": [
        {
          "output_type": "execute_result",
          "data": {
            "text/plain": [
              "(2019, 11, 2, 13, 49, 15)"
            ]
          },
          "metadata": {
            "tags": []
          },
          "execution_count": 34
        }
      ]
    },
    {
      "cell_type": "markdown",
      "metadata": {
        "id": "dW2J6AIQtdWG",
        "colab_type": "text"
      },
      "source": [
        "<br>\n",
        "`timedelta` is a duration expressing the difference between two dates."
      ]
    },
    {
      "cell_type": "code",
      "metadata": {
        "id": "0_4Pf3p7tdWG",
        "colab_type": "code",
        "outputId": "fd1f708d-d4d5-4c9c-882d-0c78247da840",
        "colab": {
          "base_uri": "https://localhost:8080/",
          "height": 34
        }
      },
      "source": [
        "delta = dt.timedelta(days = 100) # create a timedelta of 100 days\n",
        "delta"
      ],
      "execution_count": 0,
      "outputs": [
        {
          "output_type": "execute_result",
          "data": {
            "text/plain": [
              "datetime.timedelta(100)"
            ]
          },
          "metadata": {
            "tags": []
          },
          "execution_count": 35
        }
      ]
    },
    {
      "cell_type": "markdown",
      "metadata": {
        "id": "00phK9yytdWJ",
        "colab_type": "text"
      },
      "source": [
        "<br>\n",
        "`date.today` returns the current local date."
      ]
    },
    {
      "cell_type": "code",
      "metadata": {
        "id": "h_LLmrZOtdWK",
        "colab_type": "code",
        "outputId": "2374806c-e314-46f6-a92c-fb33153f1d33",
        "colab": {
          "base_uri": "https://localhost:8080/",
          "height": 34
        }
      },
      "source": [
        "today = dt.date.today()\n",
        "today"
      ],
      "execution_count": 0,
      "outputs": [
        {
          "output_type": "execute_result",
          "data": {
            "text/plain": [
              "datetime.date(2019, 11, 2)"
            ]
          },
          "metadata": {
            "tags": []
          },
          "execution_count": 39
        }
      ]
    },
    {
      "cell_type": "code",
      "metadata": {
        "id": "JKKBP8jutdWO",
        "colab_type": "code",
        "outputId": "87b66f53-0d69-4379-e151-52fe7b339954",
        "colab": {
          "base_uri": "https://localhost:8080/",
          "height": 34
        }
      },
      "source": [
        "today - delta # the date 100 days ago"
      ],
      "execution_count": 0,
      "outputs": [
        {
          "output_type": "execute_result",
          "data": {
            "text/plain": [
              "datetime.date(2019, 7, 25)"
            ]
          },
          "metadata": {
            "tags": []
          },
          "execution_count": 40
        }
      ]
    },
    {
      "cell_type": "code",
      "metadata": {
        "id": "Ky75PTbJtdWQ",
        "colab_type": "code",
        "outputId": "95d5e8bf-3bb3-4b06-a557-3ac17ea425f4",
        "colab": {
          "base_uri": "https://localhost:8080/",
          "height": 34
        }
      },
      "source": [
        "today > today-delta # compare dates"
      ],
      "execution_count": 0,
      "outputs": [
        {
          "output_type": "execute_result",
          "data": {
            "text/plain": [
              "True"
            ]
          },
          "metadata": {
            "tags": []
          },
          "execution_count": 41
        }
      ]
    },
    {
      "cell_type": "markdown",
      "metadata": {
        "id": "Q-qR31r1tdWS",
        "colab_type": "text"
      },
      "source": [
        "##  Objects and map()"
      ]
    },
    {
      "cell_type": "markdown",
      "metadata": {
        "id": "kZv9Sp_qtdWT",
        "colab_type": "text"
      },
      "source": [
        "An example of a class in python:"
      ]
    },
    {
      "cell_type": "code",
      "metadata": {
        "id": "V84Twc9qtdWU",
        "colab_type": "code",
        "colab": {}
      },
      "source": [
        "class Person:\n",
        "    department = 'School of Information' #a class variable\n",
        "\n",
        "    def set_name(self, new_name): #a method\n",
        "        self.name = new_name\n",
        "    def set_location(self, new_location):\n",
        "        self.location = new_location"
      ],
      "execution_count": 0,
      "outputs": []
    },
    {
      "cell_type": "code",
      "metadata": {
        "id": "viiG0zG0tdWW",
        "colab_type": "code",
        "colab": {}
      },
      "source": [
        "person = Person()\n",
        "person.set_name('Christopher Brooks')\n",
        "person.set_location('Ann Arbor, MI, USA')\n",
        "print('{} live in {} and works in the department {}'.format(person.name, person.location, person.department))"
      ],
      "execution_count": 0,
      "outputs": []
    },
    {
      "cell_type": "markdown",
      "metadata": {
        "id": "NJhm8bwItdWa",
        "colab_type": "text"
      },
      "source": [
        "<br>\n",
        "Here's an example of mapping the `min` function between two lists."
      ]
    },
    {
      "cell_type": "code",
      "metadata": {
        "id": "Kkqry4A6tdWd",
        "colab_type": "code",
        "outputId": "ae93faed-4b8c-4e5a-ba7a-f230283fc056",
        "colab": {
          "base_uri": "https://localhost:8080/",
          "height": 34
        }
      },
      "source": [
        "store1 = [10.00, 11.00, 12.34, 2.34]\n",
        "store2 = [9.00, 11.10, 12.34, 2.01]\n",
        "cheapest = map(min, store1, store2)\n",
        "cheapest"
      ],
      "execution_count": 0,
      "outputs": [
        {
          "output_type": "execute_result",
          "data": {
            "text/plain": [
              "<map at 0x7f3900b8bbe0>"
            ]
          },
          "metadata": {
            "tags": []
          },
          "execution_count": 43
        }
      ]
    },
    {
      "cell_type": "markdown",
      "metadata": {
        "id": "sQluIsGBtdWg",
        "colab_type": "text"
      },
      "source": [
        "<br>\n",
        "Now let's iterate through the map object to see the values."
      ]
    },
    {
      "cell_type": "code",
      "metadata": {
        "scrolled": true,
        "id": "xFO7IJf5tdWh",
        "colab_type": "code",
        "outputId": "51d819d2-fbad-452a-e0f6-4788d809ded1",
        "colab": {
          "base_uri": "https://localhost:8080/",
          "height": 85
        }
      },
      "source": [
        "for item in cheapest:\n",
        "    print(item)"
      ],
      "execution_count": 0,
      "outputs": [
        {
          "output_type": "stream",
          "text": [
            "9.0\n",
            "11.0\n",
            "12.34\n",
            "2.01\n"
          ],
          "name": "stdout"
        }
      ]
    },
    {
      "cell_type": "code",
      "metadata": {
        "id": "_LfHBFIBxoua",
        "colab_type": "code",
        "outputId": "2a51fd51-c8f1-4a9c-ecfe-c300e34e9ba5",
        "colab": {
          "base_uri": "https://localhost:8080/",
          "height": 34
        }
      },
      "source": [
        "people = ['Dr. Christopher Brooks', 'Dr. Kevyn Collins-Thompson', 'Dr. VG Vinod Vydiswaran', 'Dr. Daniel Romero']\n",
        "\n",
        "def split_title_and_name(person):\n",
        "  person = person.split()\n",
        "  person.pop(1)\n",
        "  return ''.join(person)\n",
        "\n",
        "list(map(split_title_and_name,people))\n"
      ],
      "execution_count": 0,
      "outputs": [
        {
          "output_type": "execute_result",
          "data": {
            "text/plain": [
              "['Dr. Brooks', 'Dr. Collins-Thompson', 'Dr. Vinod Vydiswaran', 'Dr. Romero']"
            ]
          },
          "metadata": {
            "tags": []
          },
          "execution_count": 59
        }
      ]
    },
    {
      "cell_type": "markdown",
      "metadata": {
        "id": "Wtfne4TNtdWj",
        "colab_type": "text"
      },
      "source": [
        "## Lambda and List Comprehensions"
      ]
    },
    {
      "cell_type": "markdown",
      "metadata": {
        "id": "Ajq16wwdtdWk",
        "colab_type": "text"
      },
      "source": [
        "<br>\n",
        "Here's an example of lambda that takes in three parameters and adds the first two."
      ]
    },
    {
      "cell_type": "code",
      "metadata": {
        "id": "Rfb-uZiitdWl",
        "colab_type": "code",
        "colab": {}
      },
      "source": [
        "my_function = lambda a, b, c : a + b"
      ],
      "execution_count": 0,
      "outputs": []
    },
    {
      "cell_type": "code",
      "metadata": {
        "id": "tVZ9PAk7tdWo",
        "colab_type": "code",
        "outputId": "ae821c9f-6772-46f4-8bbf-9c34ead13c33",
        "colab": {
          "base_uri": "https://localhost:8080/",
          "height": 34
        }
      },
      "source": [
        "my_function(1, 2, 3)"
      ],
      "execution_count": 0,
      "outputs": [
        {
          "output_type": "execute_result",
          "data": {
            "text/plain": [
              "3"
            ]
          },
          "metadata": {
            "tags": []
          },
          "execution_count": 84
        }
      ]
    },
    {
      "cell_type": "code",
      "metadata": {
        "id": "3mUUiip1XOJj",
        "colab_type": "code",
        "outputId": "2741d175-391e-429b-cc0a-f230ae5b46af",
        "colab": {
          "base_uri": "https://localhost:8080/",
          "height": 34
        }
      },
      "source": [
        "type(my_function)"
      ],
      "execution_count": 0,
      "outputs": [
        {
          "output_type": "execute_result",
          "data": {
            "text/plain": [
              "function"
            ]
          },
          "metadata": {
            "tags": []
          },
          "execution_count": 85
        }
      ]
    },
    {
      "cell_type": "code",
      "metadata": {
        "id": "LdJ3ydkP3NT7",
        "colab_type": "code",
        "colab": {}
      },
      "source": [
        "people = ['Dr. Christopher Brooks', 'Dr. Kevyn Collins-Thompson', 'Dr. VG Vinod Vydiswaran', 'Dr. Daniel Romero']\n",
        "\n",
        "def split_title_and_name(person):\n",
        "    return person.split()[0] + ' ' + person.split()[-1]\n",
        "\n",
        "#option 1\n",
        "for person in people:\n",
        "    print(split_title_and_name(person) == (lambda x: x.split()[0] + ' ' + x.split()[-1])(person))\n",
        "\n",
        "#option 2\n",
        "list(map(split_title_and_name, people)) == list(map(lambda person: person.split()[0] + ' ' + person.split()[-1], people))"
      ],
      "execution_count": 0,
      "outputs": []
    },
    {
      "cell_type": "markdown",
      "metadata": {
        "id": "T1o840oFtdWu",
        "colab_type": "text"
      },
      "source": [
        "<br>\n",
        "Let's iterate from 0 to 999 and return the even numbers."
      ]
    },
    {
      "cell_type": "code",
      "metadata": {
        "id": "yPkX7jqHtdWv",
        "colab_type": "code",
        "colab": {}
      },
      "source": [
        "my_list = []\n",
        "for number in range(0, 1000):\n",
        "    if number % 2 == 0:\n",
        "        my_list.append(number)\n",
        "my_list"
      ],
      "execution_count": 0,
      "outputs": []
    },
    {
      "cell_type": "markdown",
      "metadata": {
        "id": "UdL5iZNqtdWy",
        "colab_type": "text"
      },
      "source": [
        "<br>\n",
        "Now the same thing but with list comprehension."
      ]
    },
    {
      "cell_type": "code",
      "metadata": {
        "id": "v7B24crjtdWy",
        "colab_type": "code",
        "colab": {}
      },
      "source": [
        "my_list = [number for number in range(0,1000) if number % 2 == 0]\n",
        "my_list"
      ],
      "execution_count": 0,
      "outputs": []
    },
    {
      "cell_type": "code",
      "metadata": {
        "id": "v3b96TJd2Tk8",
        "colab_type": "code",
        "outputId": "77d06c80-ca48-413b-80c9-d006bd369daf",
        "colab": {
          "base_uri": "https://localhost:8080/",
          "height": 34
        }
      },
      "source": [
        "def times_tables():\n",
        "    lst = []\n",
        "    for i in range(10):\n",
        "        for j in range (10):\n",
        "            lst.append(i*j)\n",
        "    return lst\n",
        "    \n",
        "times_tables() == [j*i for i in range(10) for j in range(10)]\n"
      ],
      "execution_count": 0,
      "outputs": [
        {
          "output_type": "execute_result",
          "data": {
            "text/plain": [
              "True"
            ]
          },
          "metadata": {
            "tags": []
          },
          "execution_count": 79
        }
      ]
    },
    {
      "cell_type": "markdown",
      "metadata": {
        "collapsed": true,
        "id": "OhZobMTNtdW4",
        "colab_type": "text"
      },
      "source": [
        "##NumPy"
      ]
    },
    {
      "cell_type": "code",
      "metadata": {
        "id": "kcdlXAYMtdW6",
        "colab_type": "code",
        "colab": {}
      },
      "source": [
        "import numpy as np"
      ],
      "execution_count": 0,
      "outputs": []
    },
    {
      "cell_type": "markdown",
      "metadata": {
        "id": "s2f9iP80tdW9",
        "colab_type": "text"
      },
      "source": [
        "<br>\n",
        "## Creating Arrays"
      ]
    },
    {
      "cell_type": "markdown",
      "metadata": {
        "id": "38g4c_ULtdW-",
        "colab_type": "text"
      },
      "source": [
        "Create a list and convert it to a numpy array"
      ]
    },
    {
      "cell_type": "code",
      "metadata": {
        "id": "6GSduczitdW_",
        "colab_type": "code",
        "outputId": "7e1e9fd9-2e24-421d-de24-9c266761ea10",
        "colab": {
          "base_uri": "https://localhost:8080/",
          "height": 34
        }
      },
      "source": [
        "mylist = [1, 2, 3]\n",
        "x = np.array(mylist)\n",
        "x"
      ],
      "execution_count": 0,
      "outputs": [
        {
          "output_type": "execute_result",
          "data": {
            "text/plain": [
              "array([1, 2, 3])"
            ]
          },
          "metadata": {
            "tags": []
          },
          "execution_count": 28
        }
      ]
    },
    {
      "cell_type": "markdown",
      "metadata": {
        "id": "TWfK2wEdtdXD",
        "colab_type": "text"
      },
      "source": [
        "<br>\n",
        "Or just pass in a list directly"
      ]
    },
    {
      "cell_type": "code",
      "metadata": {
        "id": "mz7j2lUItdXE",
        "colab_type": "code",
        "outputId": "c5f616f3-f8a0-4a39-cddf-205ef3c8bf28",
        "colab": {
          "base_uri": "https://localhost:8080/",
          "height": 34
        }
      },
      "source": [
        "y = np.array([4, 5, 6])\n",
        "y"
      ],
      "execution_count": 0,
      "outputs": [
        {
          "output_type": "execute_result",
          "data": {
            "text/plain": [
              "array([4, 5, 6])"
            ]
          },
          "metadata": {
            "tags": []
          },
          "execution_count": 27
        }
      ]
    },
    {
      "cell_type": "markdown",
      "metadata": {
        "id": "Wb5W0WkMtdXJ",
        "colab_type": "text"
      },
      "source": [
        "<br>\n",
        "Pass in a list of lists to create a multidimensional array."
      ]
    },
    {
      "cell_type": "code",
      "metadata": {
        "id": "VH9QU9BZtdXK",
        "colab_type": "code",
        "outputId": "3668a3aa-00f9-4f64-b2e6-42cf421e416a",
        "colab": {
          "base_uri": "https://localhost:8080/",
          "height": 51
        }
      },
      "source": [
        "m = np.array([[7, 8, 9], [10, 11, 12]])\n",
        "m"
      ],
      "execution_count": 0,
      "outputs": [
        {
          "output_type": "execute_result",
          "data": {
            "text/plain": [
              "array([[ 7,  8,  9],\n",
              "       [10, 11, 12]])"
            ]
          },
          "metadata": {
            "tags": []
          },
          "execution_count": 4
        }
      ]
    },
    {
      "cell_type": "markdown",
      "metadata": {
        "id": "PhdPMevStdXO",
        "colab_type": "text"
      },
      "source": [
        "<br>\n",
        "Use the shape method to find the dimensions of the array. (rows, columns)"
      ]
    },
    {
      "cell_type": "code",
      "metadata": {
        "id": "uv8wcvFntdXP",
        "colab_type": "code",
        "outputId": "b07e0dca-4051-437a-9e59-864684796969",
        "colab": {
          "base_uri": "https://localhost:8080/",
          "height": 34
        }
      },
      "source": [
        "m.shape"
      ],
      "execution_count": 0,
      "outputs": [
        {
          "output_type": "execute_result",
          "data": {
            "text/plain": [
              "(2, 3)"
            ]
          },
          "metadata": {
            "tags": []
          },
          "execution_count": 5
        }
      ]
    },
    {
      "cell_type": "markdown",
      "metadata": {
        "id": "m7YAjAxttdXV",
        "colab_type": "text"
      },
      "source": [
        "<br>\n",
        "`arange` returns evenly spaced values within a given interval."
      ]
    },
    {
      "cell_type": "code",
      "metadata": {
        "id": "TlmuwjxAtdXV",
        "colab_type": "code",
        "outputId": "eeebb253-dcdc-478a-e57b-930fda4d4852",
        "colab": {
          "base_uri": "https://localhost:8080/",
          "height": 34
        }
      },
      "source": [
        "n = np.arange(0, 30, 2) # start at 0 count up by 2, stop before 30\n",
        "n"
      ],
      "execution_count": 0,
      "outputs": [
        {
          "output_type": "execute_result",
          "data": {
            "text/plain": [
              "array([ 0,  2,  4,  6,  8, 10, 12, 14, 16, 18, 20, 22, 24, 26, 28])"
            ]
          },
          "metadata": {
            "tags": []
          },
          "execution_count": 6
        }
      ]
    },
    {
      "cell_type": "markdown",
      "metadata": {
        "id": "PlNa6yVbtdXb",
        "colab_type": "text"
      },
      "source": [
        "<br>\n",
        "`reshape` returns an array with the same data with a new shape."
      ]
    },
    {
      "cell_type": "code",
      "metadata": {
        "id": "5maNZKjBtdXc",
        "colab_type": "code",
        "outputId": "a73cbbf2-9f52-49f1-e535-2384c10a1975",
        "colab": {
          "base_uri": "https://localhost:8080/",
          "height": 68
        }
      },
      "source": [
        "n = n.reshape(3, 5) # reshape array to be 3x5\n",
        "n"
      ],
      "execution_count": 0,
      "outputs": [
        {
          "output_type": "execute_result",
          "data": {
            "text/plain": [
              "array([[ 0,  2,  4,  6,  8],\n",
              "       [10, 12, 14, 16, 18],\n",
              "       [20, 22, 24, 26, 28]])"
            ]
          },
          "metadata": {
            "tags": []
          },
          "execution_count": 7
        }
      ]
    },
    {
      "cell_type": "markdown",
      "metadata": {
        "id": "Abk8e2eptdXf",
        "colab_type": "text"
      },
      "source": [
        "<br>\n",
        "`linspace` returns evenly spaced numbers over a specified interval."
      ]
    },
    {
      "cell_type": "code",
      "metadata": {
        "id": "WGADewsbtdXj",
        "colab_type": "code",
        "outputId": "bc923dd6-3a1f-42bc-be92-68cf5d3c9917",
        "colab": {
          "base_uri": "https://localhost:8080/",
          "height": 34
        }
      },
      "source": [
        "o = np.linspace(0, 4, 9) # return 9 evenly spaced values from 0 to 4\n",
        "o"
      ],
      "execution_count": 0,
      "outputs": [
        {
          "output_type": "execute_result",
          "data": {
            "text/plain": [
              "array([0. , 0.5, 1. , 1.5, 2. , 2.5, 3. , 3.5, 4. ])"
            ]
          },
          "metadata": {
            "tags": []
          },
          "execution_count": 8
        }
      ]
    },
    {
      "cell_type": "markdown",
      "metadata": {
        "id": "Zw42MfuotdXq",
        "colab_type": "text"
      },
      "source": [
        "<br>\n",
        "`resize` changes the shape and size of array in-place."
      ]
    },
    {
      "cell_type": "code",
      "metadata": {
        "id": "zkw3ZDjVtdXr",
        "colab_type": "code",
        "outputId": "28c0377c-d5bc-4a64-d2ee-d8364e06fe6b",
        "colab": {
          "base_uri": "https://localhost:8080/",
          "height": 68
        }
      },
      "source": [
        "o.resize(3, 3)\n",
        "o"
      ],
      "execution_count": 0,
      "outputs": [
        {
          "output_type": "execute_result",
          "data": {
            "text/plain": [
              "array([[0. , 0.5, 1. ],\n",
              "       [1.5, 2. , 2.5],\n",
              "       [3. , 3.5, 4. ]])"
            ]
          },
          "metadata": {
            "tags": []
          },
          "execution_count": 9
        }
      ]
    },
    {
      "cell_type": "markdown",
      "metadata": {
        "id": "iad2hai3tdXv",
        "colab_type": "text"
      },
      "source": [
        "<br>\n",
        "`ones` returns a new array of given shape and type, filled with ones."
      ]
    },
    {
      "cell_type": "code",
      "metadata": {
        "id": "A6Gw5pistdXv",
        "colab_type": "code",
        "outputId": "9611c86c-7595-4d57-e819-0f0a707e5ad5",
        "colab": {
          "base_uri": "https://localhost:8080/",
          "height": 68
        }
      },
      "source": [
        "np.ones((3, 2))"
      ],
      "execution_count": 0,
      "outputs": [
        {
          "output_type": "execute_result",
          "data": {
            "text/plain": [
              "array([[1., 1.],\n",
              "       [1., 1.],\n",
              "       [1., 1.]])"
            ]
          },
          "metadata": {
            "tags": []
          },
          "execution_count": 10
        }
      ]
    },
    {
      "cell_type": "markdown",
      "metadata": {
        "id": "ABVnxpMJtdX0",
        "colab_type": "text"
      },
      "source": [
        "<br>\n",
        "`zeros` returns a new array of given shape and type, filled with zeros."
      ]
    },
    {
      "cell_type": "code",
      "metadata": {
        "id": "mwDLbkpAtdX1",
        "colab_type": "code",
        "outputId": "09d0882b-61ec-4e46-88b2-ed21d1e98030",
        "colab": {
          "base_uri": "https://localhost:8080/",
          "height": 51
        }
      },
      "source": [
        "np.zeros((2, 3))"
      ],
      "execution_count": 0,
      "outputs": [
        {
          "output_type": "execute_result",
          "data": {
            "text/plain": [
              "array([[0., 0., 0.],\n",
              "       [0., 0., 0.]])"
            ]
          },
          "metadata": {
            "tags": []
          },
          "execution_count": 11
        }
      ]
    },
    {
      "cell_type": "markdown",
      "metadata": {
        "id": "UbcsvOfGtdX3",
        "colab_type": "text"
      },
      "source": [
        "<br>\n",
        "`eye` returns a 2-D array with ones on the diagonal and zeros elsewhere."
      ]
    },
    {
      "cell_type": "code",
      "metadata": {
        "id": "1x9IdTfxtdX3",
        "colab_type": "code",
        "outputId": "48a95b26-4450-4c91-cbf5-689a5479249a",
        "colab": {
          "base_uri": "https://localhost:8080/",
          "height": 68
        }
      },
      "source": [
        "np.eye(3)"
      ],
      "execution_count": 0,
      "outputs": [
        {
          "output_type": "execute_result",
          "data": {
            "text/plain": [
              "array([[1., 0., 0.],\n",
              "       [0., 1., 0.],\n",
              "       [0., 0., 1.]])"
            ]
          },
          "metadata": {
            "tags": []
          },
          "execution_count": 12
        }
      ]
    },
    {
      "cell_type": "markdown",
      "metadata": {
        "id": "ZlepNZVUtdX4",
        "colab_type": "text"
      },
      "source": [
        "<br>\n",
        "`diag` extracts a diagonal or constructs a diagonal array."
      ]
    },
    {
      "cell_type": "code",
      "metadata": {
        "id": "SKN7fDBltdX5",
        "colab_type": "code",
        "outputId": "d7fe2728-e439-45df-859f-e9e4fa03428c",
        "colab": {
          "base_uri": "https://localhost:8080/",
          "height": 68
        }
      },
      "source": [
        "np.diag(y)"
      ],
      "execution_count": 0,
      "outputs": [
        {
          "output_type": "execute_result",
          "data": {
            "text/plain": [
              "array([[4, 0, 0],\n",
              "       [0, 5, 0],\n",
              "       [0, 0, 6]])"
            ]
          },
          "metadata": {
            "tags": []
          },
          "execution_count": 15
        }
      ]
    },
    {
      "cell_type": "markdown",
      "metadata": {
        "id": "s-_EKwz5tdX7",
        "colab_type": "text"
      },
      "source": [
        "<br>\n",
        "Create an array using repeating list (or see `np.tile`)"
      ]
    },
    {
      "cell_type": "code",
      "metadata": {
        "id": "fqXHxWcLtdX7",
        "colab_type": "code",
        "outputId": "11ac1269-c24a-4551-cbd2-3aa155b24d19",
        "colab": {
          "base_uri": "https://localhost:8080/",
          "height": 34
        }
      },
      "source": [
        "np.array([1, 2, 3] * 3)"
      ],
      "execution_count": 0,
      "outputs": [
        {
          "output_type": "execute_result",
          "data": {
            "text/plain": [
              "array([1, 2, 3, 1, 2, 3, 1, 2, 3])"
            ]
          },
          "metadata": {
            "tags": []
          },
          "execution_count": 16
        }
      ]
    },
    {
      "cell_type": "code",
      "metadata": {
        "id": "zMoJGYEcSkU9",
        "colab_type": "code",
        "outputId": "40f40a61-5761-4432-9b02-ea1b143a51a6",
        "colab": {
          "base_uri": "https://localhost:8080/",
          "height": 34
        }
      },
      "source": [
        "[1,2,3]*3"
      ],
      "execution_count": 0,
      "outputs": [
        {
          "output_type": "execute_result",
          "data": {
            "text/plain": [
              "[1, 2, 3, 1, 2, 3, 1, 2, 3]"
            ]
          },
          "metadata": {
            "tags": []
          },
          "execution_count": 20
        }
      ]
    },
    {
      "cell_type": "markdown",
      "metadata": {
        "id": "KxEuNk-vtdX9",
        "colab_type": "text"
      },
      "source": [
        "<br>\n",
        "Repeat elements of an array using `repeat`."
      ]
    },
    {
      "cell_type": "code",
      "metadata": {
        "id": "_nYRTtv9tdX9",
        "colab_type": "code",
        "outputId": "19756d48-6784-4aea-fb73-4d8de5e562f0",
        "colab": {
          "base_uri": "https://localhost:8080/",
          "height": 34
        }
      },
      "source": [
        "np.repeat([1, 2, 3], 3)"
      ],
      "execution_count": 0,
      "outputs": [
        {
          "output_type": "execute_result",
          "data": {
            "text/plain": [
              "array([1, 1, 1, 2, 2, 2, 3, 3, 3])"
            ]
          },
          "metadata": {
            "tags": []
          },
          "execution_count": 17
        }
      ]
    },
    {
      "cell_type": "markdown",
      "metadata": {
        "id": "nQqfOIDBtdYA",
        "colab_type": "text"
      },
      "source": [
        "## Combining Arrays"
      ]
    },
    {
      "cell_type": "code",
      "metadata": {
        "id": "dtC5wU0ftdYE",
        "colab_type": "code",
        "outputId": "5d3721eb-8ca5-4cf3-d82d-665a6e15a3c7",
        "colab": {
          "base_uri": "https://localhost:8080/",
          "height": 51
        }
      },
      "source": [
        "p = np.ones([2, 3], int)\n",
        "p"
      ],
      "execution_count": 0,
      "outputs": [
        {
          "output_type": "execute_result",
          "data": {
            "text/plain": [
              "array([[1, 1, 1],\n",
              "       [1, 1, 1]])"
            ]
          },
          "metadata": {
            "tags": []
          },
          "execution_count": 25
        }
      ]
    },
    {
      "cell_type": "markdown",
      "metadata": {
        "id": "XoBDKamItdYG",
        "colab_type": "text"
      },
      "source": [
        "<br>\n",
        "Use `vstack` to stack arrays in sequence vertically (row wise)."
      ]
    },
    {
      "cell_type": "code",
      "metadata": {
        "id": "GkMLMnUJtdYH",
        "colab_type": "code",
        "outputId": "c162e9ff-8f75-4177-a2ab-0ace8cdfdd7b",
        "colab": {
          "base_uri": "https://localhost:8080/",
          "height": 85
        }
      },
      "source": [
        "np.vstack([p, 2*p])"
      ],
      "execution_count": 0,
      "outputs": [
        {
          "output_type": "execute_result",
          "data": {
            "text/plain": [
              "array([[1, 1, 1],\n",
              "       [1, 1, 1],\n",
              "       [2, 2, 2],\n",
              "       [2, 2, 2]])"
            ]
          },
          "metadata": {
            "tags": []
          },
          "execution_count": 22
        }
      ]
    },
    {
      "cell_type": "markdown",
      "metadata": {
        "id": "zNpMy914tdYJ",
        "colab_type": "text"
      },
      "source": [
        "<br>\n",
        "Use `hstack` to stack arrays in sequence horizontally (column wise)."
      ]
    },
    {
      "cell_type": "code",
      "metadata": {
        "id": "bJM8qSevtdYJ",
        "colab_type": "code",
        "outputId": "a1c62ea4-18de-4777-978a-6019a2875fb3",
        "colab": {
          "base_uri": "https://localhost:8080/",
          "height": 51
        }
      },
      "source": [
        "np.hstack([p, 2*p])"
      ],
      "execution_count": 0,
      "outputs": [
        {
          "output_type": "execute_result",
          "data": {
            "text/plain": [
              "array([[1, 1, 1, 2, 2, 2],\n",
              "       [1, 1, 1, 2, 2, 2]])"
            ]
          },
          "metadata": {
            "tags": []
          },
          "execution_count": 23
        }
      ]
    },
    {
      "cell_type": "markdown",
      "metadata": {
        "id": "-Vb1Nj5OtdYK",
        "colab_type": "text"
      },
      "source": [
        "<br>\n",
        "## Operations"
      ]
    },
    {
      "cell_type": "markdown",
      "metadata": {
        "id": "74wCXy-otdYL",
        "colab_type": "text"
      },
      "source": [
        "Use `+`, `-`, `*`, `/` and `**` to perform element wise addition, subtraction, multiplication, division and power."
      ]
    },
    {
      "cell_type": "code",
      "metadata": {
        "id": "_8eHrNw_tdYM",
        "colab_type": "code",
        "outputId": "6e5d20de-40b8-47f1-a44a-21b70e473017",
        "colab": {
          "base_uri": "https://localhost:8080/",
          "height": 51
        }
      },
      "source": [
        "print(x + y) # elementwise addition     [1 2 3] + [4 5 6] = [5  7  9]\n",
        "print(x - y) # elementwise subtraction  [1 2 3] - [4 5 6] = [-3 -3 -3]"
      ],
      "execution_count": 0,
      "outputs": [
        {
          "output_type": "stream",
          "text": [
            "[5 7 9]\n",
            "[-3 -3 -3]\n"
          ],
          "name": "stdout"
        }
      ]
    },
    {
      "cell_type": "code",
      "metadata": {
        "id": "yhnb8S8rtdYN",
        "colab_type": "code",
        "outputId": "9dce9a54-9433-408f-fdd8-abc5ee3c6db3",
        "colab": {
          "base_uri": "https://localhost:8080/",
          "height": 51
        }
      },
      "source": [
        "print(x * y) # elementwise multiplication  [1 2 3] * [4 5 6] = [4  10  18]\n",
        "print(x / y) # elementwise divison         [1 2 3] / [4 5 6] = [0.25  0.4  0.5]"
      ],
      "execution_count": 0,
      "outputs": [
        {
          "output_type": "stream",
          "text": [
            "[ 4 10 18]\n",
            "[0.25 0.4  0.5 ]\n"
          ],
          "name": "stdout"
        }
      ]
    },
    {
      "cell_type": "code",
      "metadata": {
        "id": "LmFFndjxtdYP",
        "colab_type": "code",
        "outputId": "3425e682-f97e-47bf-a4d7-a02b6cdb5c15",
        "colab": {
          "base_uri": "https://localhost:8080/",
          "height": 34
        }
      },
      "source": [
        "print(x**2) # elementwise power  [1 2 3] ^2 =  [1 4 9]"
      ],
      "execution_count": 0,
      "outputs": [
        {
          "output_type": "stream",
          "text": [
            "[1 4 9]\n"
          ],
          "name": "stdout"
        }
      ]
    },
    {
      "cell_type": "markdown",
      "metadata": {
        "id": "H35aVpRytdYR",
        "colab_type": "text"
      },
      "source": [
        "<br>\n",
        "**Dot Product:**  \n",
        "\n",
        "$ \\begin{bmatrix}x_1 \\ x_2 \\ x_3\\end{bmatrix}\n",
        "\\cdot\n",
        "\\begin{bmatrix}y_1 \\\\ y_2 \\\\ y_3\\end{bmatrix}\n",
        "= x_1 y_1 + x_2 y_2 + x_3 y_3$"
      ]
    },
    {
      "cell_type": "code",
      "metadata": {
        "id": "RWECrWIstdYS",
        "colab_type": "code",
        "outputId": "43343328-90a4-4d8a-be98-e3cdfaa63105",
        "colab": {
          "base_uri": "https://localhost:8080/",
          "height": 34
        }
      },
      "source": [
        "x.dot(y) # dot product  1*4 + 2*5 + 3*6"
      ],
      "execution_count": 0,
      "outputs": [
        {
          "output_type": "execute_result",
          "data": {
            "text/plain": [
              "32"
            ]
          },
          "metadata": {
            "tags": []
          },
          "execution_count": 32
        }
      ]
    },
    {
      "cell_type": "code",
      "metadata": {
        "id": "scHeEegNTdWN",
        "colab_type": "code",
        "outputId": "34300c2a-dba6-47af-aa02-868fce27748e",
        "colab": {
          "base_uri": "https://localhost:8080/",
          "height": 34
        }
      },
      "source": [
        "y"
      ],
      "execution_count": 0,
      "outputs": [
        {
          "output_type": "execute_result",
          "data": {
            "text/plain": [
              "array([4, 5, 6])"
            ]
          },
          "metadata": {
            "tags": []
          },
          "execution_count": 33
        }
      ]
    },
    {
      "cell_type": "code",
      "metadata": {
        "id": "ClmcBG8PTmUx",
        "colab_type": "code",
        "outputId": "3fcea669-3d47-493e-c1cb-9cd54b3ebb0f",
        "colab": {
          "base_uri": "https://localhost:8080/",
          "height": 51
        }
      },
      "source": [
        "z"
      ],
      "execution_count": 0,
      "outputs": [
        {
          "output_type": "execute_result",
          "data": {
            "text/plain": [
              "array([[ 4,  5,  6],\n",
              "       [16, 25, 36]])"
            ]
          },
          "metadata": {
            "tags": []
          },
          "execution_count": 35
        }
      ]
    },
    {
      "cell_type": "code",
      "metadata": {
        "id": "sIby73BytdYT",
        "colab_type": "code",
        "outputId": "c5980410-da4e-48e3-add1-35cf31434aa2",
        "colab": {
          "base_uri": "https://localhost:8080/",
          "height": 34
        }
      },
      "source": [
        "z = np.array([y, y**2])\n",
        "print(len(z)) # number of rows of array"
      ],
      "execution_count": 0,
      "outputs": [
        {
          "output_type": "stream",
          "text": [
            "2\n"
          ],
          "name": "stdout"
        }
      ]
    },
    {
      "cell_type": "markdown",
      "metadata": {
        "id": "MXYhkdhhtdYV",
        "colab_type": "text"
      },
      "source": [
        "<br>\n",
        "Let's look at transposing arrays. Transposing permutes the dimensions of the array."
      ]
    },
    {
      "cell_type": "code",
      "metadata": {
        "id": "ukHM32DHtdYV",
        "colab_type": "code",
        "outputId": "43f55b5c-e5cb-4d31-c4b2-291998a94960",
        "colab": {
          "base_uri": "https://localhost:8080/",
          "height": 51
        }
      },
      "source": [
        "z = np.array([y, y**2])\n",
        "z"
      ],
      "execution_count": 0,
      "outputs": [
        {
          "output_type": "execute_result",
          "data": {
            "text/plain": [
              "array([[ 4,  5,  6],\n",
              "       [16, 25, 36]])"
            ]
          },
          "metadata": {
            "tags": []
          },
          "execution_count": 36
        }
      ]
    },
    {
      "cell_type": "markdown",
      "metadata": {
        "id": "3V3jfdeJtdYX",
        "colab_type": "text"
      },
      "source": [
        "<br>\n",
        "The shape of array `z` is `(2,3)` before transposing."
      ]
    },
    {
      "cell_type": "code",
      "metadata": {
        "id": "OViUQ-ThtdYX",
        "colab_type": "code",
        "outputId": "15f6e602-3b0a-4468-8981-bea2b1e10d92",
        "colab": {
          "base_uri": "https://localhost:8080/",
          "height": 34
        }
      },
      "source": [
        "z.shape"
      ],
      "execution_count": 0,
      "outputs": [
        {
          "output_type": "execute_result",
          "data": {
            "text/plain": [
              "(2, 3)"
            ]
          },
          "metadata": {
            "tags": []
          },
          "execution_count": 37
        }
      ]
    },
    {
      "cell_type": "markdown",
      "metadata": {
        "id": "lqggQxGJtdYZ",
        "colab_type": "text"
      },
      "source": [
        "<br>\n",
        "Use `.T` to get the transpose."
      ]
    },
    {
      "cell_type": "code",
      "metadata": {
        "id": "g2A23W30tdYa",
        "colab_type": "code",
        "outputId": "b7dd82b3-c855-4b73-9320-19d7e7a9189f",
        "colab": {
          "base_uri": "https://localhost:8080/",
          "height": 68
        }
      },
      "source": [
        "z.T"
      ],
      "execution_count": 0,
      "outputs": [
        {
          "output_type": "execute_result",
          "data": {
            "text/plain": [
              "array([[ 4, 16],\n",
              "       [ 5, 25],\n",
              "       [ 6, 36]])"
            ]
          },
          "metadata": {
            "tags": []
          },
          "execution_count": 38
        }
      ]
    },
    {
      "cell_type": "markdown",
      "metadata": {
        "id": "KtgD2cHetdYd",
        "colab_type": "text"
      },
      "source": [
        "<br>\n",
        "The number of rows has swapped with the number of columns."
      ]
    },
    {
      "cell_type": "code",
      "metadata": {
        "id": "DKip2hIdtdYe",
        "colab_type": "code",
        "outputId": "7263da46-d0a8-4e1b-dbf2-24529d26c272",
        "colab": {
          "base_uri": "https://localhost:8080/",
          "height": 34
        }
      },
      "source": [
        "z.T.shape"
      ],
      "execution_count": 0,
      "outputs": [
        {
          "output_type": "execute_result",
          "data": {
            "text/plain": [
              "(3, 2)"
            ]
          },
          "metadata": {
            "tags": []
          },
          "execution_count": 39
        }
      ]
    },
    {
      "cell_type": "markdown",
      "metadata": {
        "id": "MwCjkct-tdYf",
        "colab_type": "text"
      },
      "source": [
        "<br>\n",
        "Use `.dtype` to see the data type of the elements in the array."
      ]
    },
    {
      "cell_type": "code",
      "metadata": {
        "id": "O8sZwcYZtdYg",
        "colab_type": "code",
        "outputId": "eb73bedf-3ac4-47bc-8f57-8242ad76ba0d",
        "colab": {
          "base_uri": "https://localhost:8080/",
          "height": 34
        }
      },
      "source": [
        "z.dtype"
      ],
      "execution_count": 0,
      "outputs": [
        {
          "output_type": "execute_result",
          "data": {
            "text/plain": [
              "dtype('int64')"
            ]
          },
          "metadata": {
            "tags": []
          },
          "execution_count": 40
        }
      ]
    },
    {
      "cell_type": "markdown",
      "metadata": {
        "id": "pEa6YCrstdYh",
        "colab_type": "text"
      },
      "source": [
        "<br>\n",
        "Use `.astype` to cast to a specific type."
      ]
    },
    {
      "cell_type": "code",
      "metadata": {
        "id": "WBJvqwVWtdYh",
        "colab_type": "code",
        "outputId": "95af704b-db08-4d9f-96cd-e16825a9eecd",
        "colab": {
          "base_uri": "https://localhost:8080/",
          "height": 34
        }
      },
      "source": [
        "z = z.astype('f')\n",
        "z.dtype"
      ],
      "execution_count": 0,
      "outputs": [
        {
          "output_type": "execute_result",
          "data": {
            "text/plain": [
              "dtype('float32')"
            ]
          },
          "metadata": {
            "tags": []
          },
          "execution_count": 41
        }
      ]
    },
    {
      "cell_type": "code",
      "metadata": {
        "id": "SEVCbM-7TzWd",
        "colab_type": "code",
        "outputId": "87fa158c-9e73-4720-b310-b8482204f92a",
        "colab": {
          "base_uri": "https://localhost:8080/",
          "height": 51
        }
      },
      "source": [
        "z"
      ],
      "execution_count": 0,
      "outputs": [
        {
          "output_type": "execute_result",
          "data": {
            "text/plain": [
              "array([[ 4.,  5.,  6.],\n",
              "       [16., 25., 36.]], dtype=float32)"
            ]
          },
          "metadata": {
            "tags": []
          },
          "execution_count": 42
        }
      ]
    },
    {
      "cell_type": "markdown",
      "metadata": {
        "id": "3wV0k5MgtdYj",
        "colab_type": "text"
      },
      "source": [
        "<br>\n",
        "## Math Functions"
      ]
    },
    {
      "cell_type": "markdown",
      "metadata": {
        "id": "6i5PF_QvtdYk",
        "colab_type": "text"
      },
      "source": [
        "Numpy has many built in math functions that can be performed on arrays."
      ]
    },
    {
      "cell_type": "code",
      "metadata": {
        "id": "RoUjSR2GtdYk",
        "colab_type": "code",
        "colab": {}
      },
      "source": [
        "a = np.array([-4, -2, 1, 3, 5])"
      ],
      "execution_count": 0,
      "outputs": []
    },
    {
      "cell_type": "code",
      "metadata": {
        "id": "yCWf8vcwtdYl",
        "colab_type": "code",
        "outputId": "1345e2b8-e5d3-4dc4-c3a4-70d5f18601d9",
        "colab": {
          "base_uri": "https://localhost:8080/",
          "height": 34
        }
      },
      "source": [
        "a.sum()"
      ],
      "execution_count": 0,
      "outputs": [
        {
          "output_type": "execute_result",
          "data": {
            "text/plain": [
              "3"
            ]
          },
          "metadata": {
            "tags": []
          },
          "execution_count": 44
        }
      ]
    },
    {
      "cell_type": "code",
      "metadata": {
        "id": "CEfd2gnitdYo",
        "colab_type": "code",
        "outputId": "0b08a91d-b794-4b4a-dd3d-0b4b75621105",
        "colab": {
          "base_uri": "https://localhost:8080/",
          "height": 34
        }
      },
      "source": [
        "a.max()"
      ],
      "execution_count": 0,
      "outputs": [
        {
          "output_type": "execute_result",
          "data": {
            "text/plain": [
              "5"
            ]
          },
          "metadata": {
            "tags": []
          },
          "execution_count": 45
        }
      ]
    },
    {
      "cell_type": "code",
      "metadata": {
        "id": "TxUoPreatdYr",
        "colab_type": "code",
        "outputId": "87897660-35b0-4f4c-9429-c1d138fe227c",
        "colab": {
          "base_uri": "https://localhost:8080/",
          "height": 34
        }
      },
      "source": [
        "a.min()"
      ],
      "execution_count": 0,
      "outputs": [
        {
          "output_type": "execute_result",
          "data": {
            "text/plain": [
              "-4"
            ]
          },
          "metadata": {
            "tags": []
          },
          "execution_count": 46
        }
      ]
    },
    {
      "cell_type": "code",
      "metadata": {
        "id": "Eoh8HW_RtdYt",
        "colab_type": "code",
        "outputId": "2d407021-a69c-417c-9297-89140412bdac",
        "colab": {
          "base_uri": "https://localhost:8080/",
          "height": 34
        }
      },
      "source": [
        "a.mean()"
      ],
      "execution_count": 0,
      "outputs": [
        {
          "output_type": "execute_result",
          "data": {
            "text/plain": [
              "0.6"
            ]
          },
          "metadata": {
            "tags": []
          },
          "execution_count": 47
        }
      ]
    },
    {
      "cell_type": "code",
      "metadata": {
        "id": "cvEpg7JdtdYu",
        "colab_type": "code",
        "outputId": "56f5053d-feac-4d8f-c7db-77bc82002cc1",
        "colab": {
          "base_uri": "https://localhost:8080/",
          "height": 34
        }
      },
      "source": [
        "a.std()"
      ],
      "execution_count": 0,
      "outputs": [
        {
          "output_type": "execute_result",
          "data": {
            "text/plain": [
              "3.2619012860600183"
            ]
          },
          "metadata": {
            "tags": []
          },
          "execution_count": 48
        }
      ]
    },
    {
      "cell_type": "markdown",
      "metadata": {
        "id": "2resGHcNtdYv",
        "colab_type": "text"
      },
      "source": [
        "<br>\n",
        "`argmax` and `argmin` return the index of the maximum and minimum values in the array."
      ]
    },
    {
      "cell_type": "code",
      "metadata": {
        "id": "wVP0laa8tdYw",
        "colab_type": "code",
        "outputId": "f6bf8328-e262-4749-e9d6-555900802244",
        "colab": {
          "base_uri": "https://localhost:8080/",
          "height": 34
        }
      },
      "source": [
        "a.argmax()"
      ],
      "execution_count": 0,
      "outputs": [
        {
          "output_type": "execute_result",
          "data": {
            "text/plain": [
              "4"
            ]
          },
          "metadata": {
            "tags": []
          },
          "execution_count": 49
        }
      ]
    },
    {
      "cell_type": "code",
      "metadata": {
        "id": "Ja_DS0_xtdYx",
        "colab_type": "code",
        "outputId": "35c8d683-1141-4f3d-cdc2-e908065d2e43",
        "colab": {
          "base_uri": "https://localhost:8080/",
          "height": 34
        }
      },
      "source": [
        "a.argmin()"
      ],
      "execution_count": 0,
      "outputs": [
        {
          "output_type": "execute_result",
          "data": {
            "text/plain": [
              "0"
            ]
          },
          "metadata": {
            "tags": []
          },
          "execution_count": 50
        }
      ]
    },
    {
      "cell_type": "markdown",
      "metadata": {
        "id": "UAeOrtZjtdYy",
        "colab_type": "text"
      },
      "source": [
        "<br>\n",
        "## Indexing / Slicing"
      ]
    },
    {
      "cell_type": "code",
      "metadata": {
        "id": "McPeweAntdYz",
        "colab_type": "code",
        "outputId": "7341cd2b-0c3b-4df7-8d28-25a7f8468360",
        "colab": {
          "base_uri": "https://localhost:8080/",
          "height": 34
        }
      },
      "source": [
        "s = np.arange(13)**2\n",
        "s"
      ],
      "execution_count": 0,
      "outputs": [
        {
          "output_type": "execute_result",
          "data": {
            "text/plain": [
              "array([  0,   1,   4,   9,  16,  25,  36,  49,  64,  81, 100, 121, 144])"
            ]
          },
          "metadata": {
            "tags": []
          },
          "execution_count": 51
        }
      ]
    },
    {
      "cell_type": "markdown",
      "metadata": {
        "id": "oGCfMLzbtdY0",
        "colab_type": "text"
      },
      "source": [
        "<br>\n",
        "Use bracket notation to get the value at a specific index. Remember that indexing starts at 0."
      ]
    },
    {
      "cell_type": "code",
      "metadata": {
        "id": "uc3cbbCZtdY1",
        "colab_type": "code",
        "outputId": "64d9ed0c-9e2f-4b08-8211-74030394e634",
        "colab": {
          "base_uri": "https://localhost:8080/",
          "height": 34
        }
      },
      "source": [
        "s[0], s[4], s[-1]"
      ],
      "execution_count": 0,
      "outputs": [
        {
          "output_type": "execute_result",
          "data": {
            "text/plain": [
              "0"
            ]
          },
          "metadata": {
            "tags": []
          },
          "execution_count": 55
        }
      ]
    },
    {
      "cell_type": "markdown",
      "metadata": {
        "id": "w_fY1P7VtdY2",
        "colab_type": "text"
      },
      "source": [
        "<br>\n",
        "Use `:` to indicate a range. `array[start:stop]`\n",
        "\n",
        "\n",
        "Leaving `start` or `stop` empty will default to the beginning/end of the array."
      ]
    },
    {
      "cell_type": "code",
      "metadata": {
        "id": "lbAiUkm0tdY3",
        "colab_type": "code",
        "outputId": "76590c6a-c88b-416a-e8d9-31c5d2f4a26e",
        "colab": {
          "base_uri": "https://localhost:8080/",
          "height": 34
        }
      },
      "source": [
        "s[1:5]"
      ],
      "execution_count": 0,
      "outputs": [
        {
          "output_type": "execute_result",
          "data": {
            "text/plain": [
              "array([ 1,  4,  9, 16])"
            ]
          },
          "metadata": {
            "tags": []
          },
          "execution_count": 53
        }
      ]
    },
    {
      "cell_type": "markdown",
      "metadata": {
        "id": "vlACJ63ttdY8",
        "colab_type": "text"
      },
      "source": [
        "<br>\n",
        "Use negatives to count from the back."
      ]
    },
    {
      "cell_type": "code",
      "metadata": {
        "id": "zv7uLWsBtdY8",
        "colab_type": "code",
        "outputId": "0162451d-43ba-4d0c-ac2f-08058b07ee55",
        "colab": {
          "base_uri": "https://localhost:8080/",
          "height": 34
        }
      },
      "source": [
        "s[-4:]"
      ],
      "execution_count": 0,
      "outputs": [
        {
          "output_type": "execute_result",
          "data": {
            "text/plain": [
              "array([ 81, 100, 121, 144])"
            ]
          },
          "metadata": {
            "tags": []
          },
          "execution_count": 56
        }
      ]
    },
    {
      "cell_type": "markdown",
      "metadata": {
        "id": "JA-xvnkBtdY-",
        "colab_type": "text"
      },
      "source": [
        "<br>\n",
        "A second `:` can be used to indicate step-size. `array[start:stop:stepsize]`\n",
        "\n",
        "Here we are starting 5th element from the end, and counting backwards by 2 until the beginning of the array is reached."
      ]
    },
    {
      "cell_type": "code",
      "metadata": {
        "id": "fgAy0D1AtdY-",
        "colab_type": "code",
        "outputId": "2a3cebf8-be74-48ba-bd79-1404e40834cb",
        "colab": {
          "base_uri": "https://localhost:8080/",
          "height": 34
        }
      },
      "source": [
        "s[-5::-2]"
      ],
      "execution_count": 0,
      "outputs": [
        {
          "output_type": "execute_result",
          "data": {
            "text/plain": [
              "array([64, 36, 16,  4,  0])"
            ]
          },
          "metadata": {
            "tags": []
          },
          "execution_count": 57
        }
      ]
    },
    {
      "cell_type": "markdown",
      "metadata": {
        "id": "lX1Uj2zZtdY_",
        "colab_type": "text"
      },
      "source": [
        "<br>\n",
        "Let's look at a multidimensional array."
      ]
    },
    {
      "cell_type": "code",
      "metadata": {
        "id": "PJ6M1H-jtdZA",
        "colab_type": "code",
        "outputId": "7f2d8c51-5d52-4884-93c4-e91cc659a203",
        "colab": {
          "base_uri": "https://localhost:8080/",
          "height": 119
        }
      },
      "source": [
        "r = np.arange(36)\n",
        "r.resize((6, 6))\n",
        "r"
      ],
      "execution_count": 0,
      "outputs": [
        {
          "output_type": "execute_result",
          "data": {
            "text/plain": [
              "array([[ 0,  1,  2,  3,  4,  5],\n",
              "       [ 6,  7,  8,  9, 10, 11],\n",
              "       [12, 13, 14, 15, 16, 17],\n",
              "       [18, 19, 20, 21, 22, 23],\n",
              "       [24, 25, 26, 27, 28, 29],\n",
              "       [30, 31, 32, 33, 34, 35]])"
            ]
          },
          "metadata": {
            "tags": []
          },
          "execution_count": 58
        }
      ]
    },
    {
      "cell_type": "markdown",
      "metadata": {
        "id": "RapFFxPKtdZC",
        "colab_type": "text"
      },
      "source": [
        "<br>\n",
        "Use bracket notation to slice: `array[row, column]`"
      ]
    },
    {
      "cell_type": "code",
      "metadata": {
        "id": "8zeJqL17tdZC",
        "colab_type": "code",
        "outputId": "252d9262-5860-4309-e5dc-84dcc2c805b5",
        "colab": {
          "base_uri": "https://localhost:8080/",
          "height": 34
        }
      },
      "source": [
        "r[2, 2]"
      ],
      "execution_count": 0,
      "outputs": [
        {
          "output_type": "execute_result",
          "data": {
            "text/plain": [
              "14"
            ]
          },
          "metadata": {
            "tags": []
          },
          "execution_count": 59
        }
      ]
    },
    {
      "cell_type": "markdown",
      "metadata": {
        "id": "r1wLhIzPtdZE",
        "colab_type": "text"
      },
      "source": [
        "<br>\n",
        "And use : to select a range of rows or columns"
      ]
    },
    {
      "cell_type": "code",
      "metadata": {
        "id": "jYhYij02tdZE",
        "colab_type": "code",
        "outputId": "d4fd4f2d-9300-44dc-936f-9aba34e4936d",
        "colab": {
          "base_uri": "https://localhost:8080/",
          "height": 34
        }
      },
      "source": [
        "r[3, 3:6]"
      ],
      "execution_count": 0,
      "outputs": [
        {
          "output_type": "execute_result",
          "data": {
            "text/plain": [
              "array([21, 22, 23])"
            ]
          },
          "metadata": {
            "tags": []
          },
          "execution_count": 60
        }
      ]
    },
    {
      "cell_type": "markdown",
      "metadata": {
        "id": "tLiFkfXXtdZJ",
        "colab_type": "text"
      },
      "source": [
        "<br>\n",
        "Here we are selecting all the rows up to (and not including) row 2, and all the columns up to (and not including) the last column."
      ]
    },
    {
      "cell_type": "code",
      "metadata": {
        "id": "1V4DennctdZK",
        "colab_type": "code",
        "outputId": "c447b7fd-b9ff-4337-eba0-784f40abf118",
        "colab": {
          "base_uri": "https://localhost:8080/",
          "height": 51
        }
      },
      "source": [
        "r[:2, :-1]"
      ],
      "execution_count": 0,
      "outputs": [
        {
          "output_type": "execute_result",
          "data": {
            "text/plain": [
              "array([[ 0,  1,  2,  3,  4],\n",
              "       [ 6,  7,  8,  9, 10]])"
            ]
          },
          "metadata": {
            "tags": []
          },
          "execution_count": 61
        }
      ]
    },
    {
      "cell_type": "markdown",
      "metadata": {
        "id": "u7xqjEDwtdZT",
        "colab_type": "text"
      },
      "source": [
        "<br>\n",
        "This is a slice of the last row, and only every other element."
      ]
    },
    {
      "cell_type": "code",
      "metadata": {
        "id": "0jpYQg3PtdZU",
        "colab_type": "code",
        "outputId": "fd9641bc-24b0-46f4-e364-a2a3a6b4f7b6",
        "colab": {
          "base_uri": "https://localhost:8080/",
          "height": 34
        }
      },
      "source": [
        "r[-1, ::2]"
      ],
      "execution_count": 0,
      "outputs": [
        {
          "output_type": "execute_result",
          "data": {
            "text/plain": [
              "array([30, 32, 34])"
            ]
          },
          "metadata": {
            "tags": []
          },
          "execution_count": 62
        }
      ]
    },
    {
      "cell_type": "markdown",
      "metadata": {
        "id": "uIDk8YzgtdZV",
        "colab_type": "text"
      },
      "source": [
        "<br>\n",
        "We can also perform conditional indexing. Here we are selecting values from the array that are greater than 30. (Also see `np.where`)"
      ]
    },
    {
      "cell_type": "code",
      "metadata": {
        "id": "tyNCyOfotdZW",
        "colab_type": "code",
        "outputId": "73648f27-8911-40d6-bc36-22ca9a9a8bcb",
        "colab": {
          "base_uri": "https://localhost:8080/",
          "height": 34
        }
      },
      "source": [
        "r[r > 30]"
      ],
      "execution_count": 0,
      "outputs": [
        {
          "output_type": "execute_result",
          "data": {
            "text/plain": [
              "array([31, 32, 33, 34, 35])"
            ]
          },
          "metadata": {
            "tags": []
          },
          "execution_count": 63
        }
      ]
    },
    {
      "cell_type": "markdown",
      "metadata": {
        "id": "i7ZLnO_ntdZZ",
        "colab_type": "text"
      },
      "source": [
        "<br>\n",
        "Here we are assigning all values in the array that are greater than 30 to the value of 30."
      ]
    },
    {
      "cell_type": "code",
      "metadata": {
        "id": "NIZRPofptdZa",
        "colab_type": "code",
        "outputId": "75fa4156-b14f-4b05-c335-a1ab161ec15a",
        "colab": {
          "base_uri": "https://localhost:8080/",
          "height": 119
        }
      },
      "source": [
        "r[r > 30] = 30\n",
        "r"
      ],
      "execution_count": 0,
      "outputs": [
        {
          "output_type": "execute_result",
          "data": {
            "text/plain": [
              "array([[ 0,  1,  2,  3,  4,  5],\n",
              "       [ 6,  7,  8,  9, 10, 11],\n",
              "       [12, 13, 14, 15, 16, 17],\n",
              "       [18, 19, 20, 21, 22, 23],\n",
              "       [24, 25, 26, 27, 28, 29],\n",
              "       [30, 30, 30, 30, 30, 30]])"
            ]
          },
          "metadata": {
            "tags": []
          },
          "execution_count": 64
        }
      ]
    },
    {
      "cell_type": "markdown",
      "metadata": {
        "id": "xzQLNJQytdZc",
        "colab_type": "text"
      },
      "source": [
        "## Copying Data"
      ]
    },
    {
      "cell_type": "markdown",
      "metadata": {
        "id": "Wmvr4jbJtdZd",
        "colab_type": "text"
      },
      "source": [
        "Be careful with copying and modifying arrays in NumPy!\n",
        "\n",
        "\n",
        "`r2` is a slice of `r`"
      ]
    },
    {
      "cell_type": "code",
      "metadata": {
        "id": "DpkeRrYktdZe",
        "colab_type": "code",
        "outputId": "6e460807-6683-41d8-c925-7276a7ecd14a",
        "colab": {
          "base_uri": "https://localhost:8080/",
          "height": 68
        }
      },
      "source": [
        "r2 = r[:3,:3]\n",
        "r2"
      ],
      "execution_count": 0,
      "outputs": [
        {
          "output_type": "execute_result",
          "data": {
            "text/plain": [
              "array([[ 0,  1,  2],\n",
              "       [ 6,  7,  8],\n",
              "       [12, 13, 14]])"
            ]
          },
          "metadata": {
            "tags": []
          },
          "execution_count": 65
        }
      ]
    },
    {
      "cell_type": "markdown",
      "metadata": {
        "id": "aroHK5IitdZh",
        "colab_type": "text"
      },
      "source": [
        "<br>\n",
        "Set this slice's values to zero ([:] selects the entire array)"
      ]
    },
    {
      "cell_type": "code",
      "metadata": {
        "id": "ZxD2j1vttdZh",
        "colab_type": "code",
        "outputId": "f1ea28e7-f4a8-44d9-ac13-d3e54ee7b0f7",
        "colab": {
          "base_uri": "https://localhost:8080/",
          "height": 68
        }
      },
      "source": [
        "r2[:] = 0\n",
        "r2"
      ],
      "execution_count": 0,
      "outputs": [
        {
          "output_type": "execute_result",
          "data": {
            "text/plain": [
              "array([[0, 0, 0],\n",
              "       [0, 0, 0],\n",
              "       [0, 0, 0]])"
            ]
          },
          "metadata": {
            "tags": []
          },
          "execution_count": 66
        }
      ]
    },
    {
      "cell_type": "markdown",
      "metadata": {
        "id": "xXmQG1y5tdZj",
        "colab_type": "text"
      },
      "source": [
        "<br>\n",
        "`r` has also been changed!"
      ]
    },
    {
      "cell_type": "code",
      "metadata": {
        "id": "zKJsJdL0tdZk",
        "colab_type": "code",
        "outputId": "88b6ecce-35fc-49aa-b27e-f268a0162201",
        "colab": {
          "base_uri": "https://localhost:8080/",
          "height": 119
        }
      },
      "source": [
        "r"
      ],
      "execution_count": 0,
      "outputs": [
        {
          "output_type": "execute_result",
          "data": {
            "text/plain": [
              "array([[ 0,  0,  0,  3,  4,  5],\n",
              "       [ 0,  0,  0,  9, 10, 11],\n",
              "       [ 0,  0,  0, 15, 16, 17],\n",
              "       [18, 19, 20, 21, 22, 23],\n",
              "       [24, 25, 26, 27, 28, 29],\n",
              "       [30, 30, 30, 30, 30, 30]])"
            ]
          },
          "metadata": {
            "tags": []
          },
          "execution_count": 67
        }
      ]
    },
    {
      "cell_type": "markdown",
      "metadata": {
        "id": "7KnWfAx_tdZl",
        "colab_type": "text"
      },
      "source": [
        "<br>\n",
        "To avoid this, use `r.copy` to create a copy that will not affect the original array"
      ]
    },
    {
      "cell_type": "code",
      "metadata": {
        "id": "mMeA0VbZtdZm",
        "colab_type": "code",
        "outputId": "d37b247e-e703-4361-ba36-4dbf6e41a485",
        "colab": {
          "base_uri": "https://localhost:8080/",
          "height": 119
        }
      },
      "source": [
        "r_copy = r.copy()\n",
        "r_copy"
      ],
      "execution_count": 0,
      "outputs": [
        {
          "output_type": "execute_result",
          "data": {
            "text/plain": [
              "array([[ 0,  0,  0,  3,  4,  5],\n",
              "       [ 0,  0,  0,  9, 10, 11],\n",
              "       [ 0,  0,  0, 15, 16, 17],\n",
              "       [18, 19, 20, 21, 22, 23],\n",
              "       [24, 25, 26, 27, 28, 29],\n",
              "       [30, 30, 30, 30, 30, 30]])"
            ]
          },
          "metadata": {
            "tags": []
          },
          "execution_count": 68
        }
      ]
    },
    {
      "cell_type": "code",
      "metadata": {
        "id": "uiWbKCFfXmzo",
        "colab_type": "code",
        "outputId": "0dff41cc-0b7e-4864-a953-b496497a7de8",
        "colab": {
          "base_uri": "https://localhost:8080/",
          "height": 34
        }
      },
      "source": [
        "r.reshape(36)[::7]"
      ],
      "execution_count": 0,
      "outputs": [
        {
          "output_type": "execute_result",
          "data": {
            "text/plain": [
              "array([ 0,  0,  0, 21, 28, 30])"
            ]
          },
          "metadata": {
            "tags": []
          },
          "execution_count": 88
        }
      ]
    },
    {
      "cell_type": "markdown",
      "metadata": {
        "id": "KCqd_ssXtdZp",
        "colab_type": "text"
      },
      "source": [
        "<br>\n",
        "Now when r_copy is modified, r will not be changed."
      ]
    },
    {
      "cell_type": "code",
      "metadata": {
        "id": "qdIFB1VYtdZq",
        "colab_type": "code",
        "outputId": "a686c1fb-4666-4097-b958-948ed418612d",
        "colab": {
          "base_uri": "https://localhost:8080/",
          "height": 238
        }
      },
      "source": [
        "r_copy[:] = 10\n",
        "print(r_copy, '\\n')\n",
        "print(r)"
      ],
      "execution_count": 0,
      "outputs": [
        {
          "output_type": "stream",
          "text": [
            "[[10 10 10 10 10 10]\n",
            " [10 10 10 10 10 10]\n",
            " [10 10 10 10 10 10]\n",
            " [10 10 10 10 10 10]\n",
            " [10 10 10 10 10 10]\n",
            " [10 10 10 10 10 10]] \n",
            "\n",
            "[[ 0  0  0  3  4  5]\n",
            " [ 0  0  0  9 10 11]\n",
            " [ 0  0  0 15 16 17]\n",
            " [18 19 20 21 22 23]\n",
            " [24 25 26 27 28 29]\n",
            " [30 30 30 30 30 30]]\n"
          ],
          "name": "stdout"
        }
      ]
    },
    {
      "cell_type": "code",
      "metadata": {
        "id": "ZVRuPvJsVPkq",
        "colab_type": "code",
        "outputId": "90656c22-c1b1-4ed5-a909-6e07ea95bd91",
        "colab": {
          "base_uri": "https://localhost:8080/",
          "height": 34
        }
      },
      "source": [
        "l = [1,2,3]\n",
        "l2 = l.copy()"
      ],
      "execution_count": 0,
      "outputs": [
        {
          "output_type": "execute_result",
          "data": {
            "text/plain": [
              "[1, 2, 3]"
            ]
          },
          "metadata": {
            "tags": []
          },
          "execution_count": 70
        }
      ]
    },
    {
      "cell_type": "code",
      "metadata": {
        "id": "u84sbVyiVc_2",
        "colab_type": "code",
        "outputId": "be61ad79-94c7-4865-9178-0baa22a07b37",
        "colab": {
          "base_uri": "https://localhost:8080/",
          "height": 34
        }
      },
      "source": [
        "l2=[0,0,0]\n",
        "l2"
      ],
      "execution_count": 0,
      "outputs": [
        {
          "output_type": "execute_result",
          "data": {
            "text/plain": [
              "[0, 0, 0]"
            ]
          },
          "metadata": {
            "tags": []
          },
          "execution_count": 72
        }
      ]
    },
    {
      "cell_type": "code",
      "metadata": {
        "id": "zHQrgsIaVfxw",
        "colab_type": "code",
        "outputId": "062f068c-ee9b-49e8-94e6-80f92c6bd9a1",
        "colab": {
          "base_uri": "https://localhost:8080/",
          "height": 34
        }
      },
      "source": [
        "l"
      ],
      "execution_count": 0,
      "outputs": [
        {
          "output_type": "execute_result",
          "data": {
            "text/plain": [
              "[1, 2, 3]"
            ]
          },
          "metadata": {
            "tags": []
          },
          "execution_count": 73
        }
      ]
    },
    {
      "cell_type": "code",
      "metadata": {
        "id": "bL56I2KcVomH",
        "colab_type": "code",
        "outputId": "2df84a0d-7851-4f4c-d1e2-f175d6700ab7",
        "colab": {
          "base_uri": "https://localhost:8080/",
          "height": 51
        }
      },
      "source": [
        "old = np.array([[1, 1, 1],\n",
        "                [1, 1, 1]])\n",
        "\n",
        "new = old\n",
        "new[0, :2] = 0\n",
        "\n",
        "print(old)"
      ],
      "execution_count": 0,
      "outputs": [
        {
          "output_type": "stream",
          "text": [
            "[[0 0 1]\n",
            " [1 1 1]]\n"
          ],
          "name": "stdout"
        }
      ]
    },
    {
      "cell_type": "markdown",
      "metadata": {
        "id": "r9hnK2f1tdZs",
        "colab_type": "text"
      },
      "source": [
        "## Iterating Over Arrays"
      ]
    },
    {
      "cell_type": "markdown",
      "metadata": {
        "id": "IJ1kfB1dtdZs",
        "colab_type": "text"
      },
      "source": [
        "Let's create a new 4 by 3 array of random numbers 0-9."
      ]
    },
    {
      "cell_type": "code",
      "metadata": {
        "id": "jsBCPafYtdZt",
        "colab_type": "code",
        "outputId": "36484843-5ef7-4dfb-be32-083fc20713d8",
        "colab": {
          "base_uri": "https://localhost:8080/",
          "height": 85
        }
      },
      "source": [
        "test = np.random.randint(0, 10, (4,3))\n",
        "test"
      ],
      "execution_count": 0,
      "outputs": [
        {
          "output_type": "execute_result",
          "data": {
            "text/plain": [
              "array([[7, 2, 5],\n",
              "       [6, 4, 5],\n",
              "       [2, 5, 1],\n",
              "       [3, 1, 7]])"
            ]
          },
          "metadata": {
            "tags": []
          },
          "execution_count": 75
        }
      ]
    },
    {
      "cell_type": "markdown",
      "metadata": {
        "id": "uwPnwfUXtdZu",
        "colab_type": "text"
      },
      "source": [
        "<br>\n",
        "Iterate by row:"
      ]
    },
    {
      "cell_type": "code",
      "metadata": {
        "id": "-Hjt7YVStdZu",
        "colab_type": "code",
        "outputId": "a6d1ee9c-ccce-467f-ef4f-0657e341f647",
        "colab": {
          "base_uri": "https://localhost:8080/",
          "height": 85
        }
      },
      "source": [
        "for row in test:\n",
        "    print(row)"
      ],
      "execution_count": 0,
      "outputs": [
        {
          "output_type": "stream",
          "text": [
            "[7 2 5]\n",
            "[6 4 5]\n",
            "[2 5 1]\n",
            "[3 1 7]\n"
          ],
          "name": "stdout"
        }
      ]
    },
    {
      "cell_type": "markdown",
      "metadata": {
        "id": "kJgju1dptdZz",
        "colab_type": "text"
      },
      "source": [
        "<br>\n",
        "Iterate by index:"
      ]
    },
    {
      "cell_type": "code",
      "metadata": {
        "id": "XLzD8OOWtdZz",
        "colab_type": "code",
        "outputId": "a58b5d19-3f5a-47b5-9d69-da99be74d841",
        "colab": {
          "base_uri": "https://localhost:8080/",
          "height": 85
        }
      },
      "source": [
        "for i in range(len(test)):\n",
        "    print(test[i])"
      ],
      "execution_count": 0,
      "outputs": [
        {
          "output_type": "stream",
          "text": [
            "[7 2 5]\n",
            "[6 4 5]\n",
            "[2 5 1]\n",
            "[3 1 7]\n"
          ],
          "name": "stdout"
        }
      ]
    },
    {
      "cell_type": "markdown",
      "metadata": {
        "id": "qgms_DqftdZ1",
        "colab_type": "text"
      },
      "source": [
        "<br>\n",
        "Iterate by row and index:"
      ]
    },
    {
      "cell_type": "code",
      "metadata": {
        "id": "4W9P0oL9tdZ1",
        "colab_type": "code",
        "outputId": "3050364a-20c6-4cb4-f8f7-4294f603a7bf",
        "colab": {
          "base_uri": "https://localhost:8080/",
          "height": 85
        }
      },
      "source": [
        "for i, row in enumerate(test):\n",
        "    print('row', i, 'is', row)"
      ],
      "execution_count": 0,
      "outputs": [
        {
          "output_type": "stream",
          "text": [
            "row 0 is [7 2 5]\n",
            "row 1 is [6 4 5]\n",
            "row 2 is [2 5 1]\n",
            "row 3 is [3 1 7]\n"
          ],
          "name": "stdout"
        }
      ]
    },
    {
      "cell_type": "markdown",
      "metadata": {
        "id": "ZYEQtqfMtdZ3",
        "colab_type": "text"
      },
      "source": [
        "<br>\n",
        "Use `zip` to iterate over multiple iterables."
      ]
    },
    {
      "cell_type": "code",
      "metadata": {
        "id": "xAxxacLYtdZ4",
        "colab_type": "code",
        "outputId": "94ae4110-e3e9-4d89-ae0d-841dd8e641ff",
        "colab": {
          "base_uri": "https://localhost:8080/",
          "height": 85
        }
      },
      "source": [
        "test2 = test**2\n",
        "test2"
      ],
      "execution_count": 0,
      "outputs": [
        {
          "output_type": "execute_result",
          "data": {
            "text/plain": [
              "array([[49,  4, 25],\n",
              "       [36, 16, 25],\n",
              "       [ 4, 25,  1],\n",
              "       [ 9,  1, 49]])"
            ]
          },
          "metadata": {
            "tags": []
          },
          "execution_count": 79
        }
      ]
    },
    {
      "cell_type": "code",
      "metadata": {
        "id": "qd9SLUuYtdZ9",
        "colab_type": "code",
        "outputId": "356dea51-7279-42f7-e5b4-456ee2d10c61",
        "colab": {
          "base_uri": "https://localhost:8080/",
          "height": 85
        }
      },
      "source": [
        "for i, j in zip(test, test2):\n",
        "    print(i,'+',j,'=',i+j)"
      ],
      "execution_count": 0,
      "outputs": [
        {
          "output_type": "stream",
          "text": [
            "[7 2 5] + [49  4 25] = [56  6 30]\n",
            "[6 4 5] + [36 16 25] = [42 20 30]\n",
            "[2 5 1] + [ 4 25  1] = [ 6 30  2]\n",
            "[3 1 7] + [ 9  1 49] = [12  2 56]\n"
          ],
          "name": "stdout"
        }
      ]
    },
    {
      "cell_type": "code",
      "metadata": {
        "id": "52N3hw5aW-SL",
        "colab_type": "code",
        "outputId": "e03e9603-489f-4251-8bb7-6c40e7421a25",
        "colab": {
          "base_uri": "https://localhost:8080/",
          "height": 34
        }
      },
      "source": [
        "[1,2,3]+[2,3,4]"
      ],
      "execution_count": 0,
      "outputs": [
        {
          "output_type": "execute_result",
          "data": {
            "text/plain": [
              "[1, 2, 3, 2, 3, 4]"
            ]
          },
          "metadata": {
            "tags": []
          },
          "execution_count": 81
        }
      ]
    },
    {
      "cell_type": "code",
      "metadata": {
        "id": "vrmZD1MzXGvU",
        "colab_type": "code",
        "colab": {}
      },
      "source": [
        "x = "
      ],
      "execution_count": 0,
      "outputs": []
    }
  ]
}
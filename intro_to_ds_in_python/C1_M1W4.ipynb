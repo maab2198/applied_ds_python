{
  "nbformat": 4,
  "nbformat_minor": 0,
  "metadata": {
    "kernelspec": {
      "display_name": "Python 3",
      "language": "python",
      "name": "python3"
    },
    "language_info": {
      "codemirror_mode": {
        "name": "ipython",
        "version": 3
      },
      "file_extension": ".py",
      "mimetype": "text/x-python",
      "name": "python",
      "nbconvert_exporter": "python",
      "pygments_lexer": "ipython3",
      "version": "3.6.2"
    },
    "colab": {
      "name": "C1_M1W4.ipynb",
      "provenance": [],
      "include_colab_link": true
    }
  },
  "cells": [
    {
      "cell_type": "markdown",
      "metadata": {
        "id": "view-in-github",
        "colab_type": "text"
      },
      "source": [
        "<a href=\"https://colab.research.google.com/github/maab2198/applied_ds_python/blob/master/C1_M1W4.ipynb\" target=\"_parent\"><img src=\"https://colab.research.google.com/assets/colab-badge.svg\" alt=\"Open In Colab\"/></a>"
      ]
    },
    {
      "cell_type": "markdown",
      "metadata": {
        "id": "ZQW_-2iixpIF",
        "colab_type": "text"
      },
      "source": [
        "# Distributions in Pandas"
      ]
    },
    {
      "cell_type": "code",
      "metadata": {
        "id": "4X0VltMc-S32",
        "colab_type": "code",
        "outputId": "91f25155-bfdd-4efe-a271-a93a13e80882",
        "colab": {
          "base_uri": "https://localhost:8080/",
          "height": 122
        }
      },
      "source": [
        "from google.colab import drive\n",
        "drive.mount('/content/drive')"
      ],
      "execution_count": 0,
      "outputs": [
        {
          "output_type": "stream",
          "text": [
            "Go to this URL in a browser: https://accounts.google.com/o/oauth2/auth?client_id=947318989803-6bn6qk8qdgf4n4g3pfee6491hc0brc4i.apps.googleusercontent.com&redirect_uri=urn%3aietf%3awg%3aoauth%3a2.0%3aoob&response_type=code&scope=email%20https%3a%2f%2fwww.googleapis.com%2fauth%2fdocs.test%20https%3a%2f%2fwww.googleapis.com%2fauth%2fdrive%20https%3a%2f%2fwww.googleapis.com%2fauth%2fdrive.photos.readonly%20https%3a%2f%2fwww.googleapis.com%2fauth%2fpeopleapi.readonly\n",
            "\n",
            "Enter your authorization code:\n",
            "··········\n",
            "Mounted at /content/drive\n"
          ],
          "name": "stdout"
        }
      ]
    },
    {
      "cell_type": "code",
      "metadata": {
        "id": "5HHrzU3N-U3z",
        "colab_type": "code",
        "colab": {}
      },
      "source": [
        "path = \"drive/My Drive/Colab Notebooks/C1_M1Files/\"\n"
      ],
      "execution_count": 0,
      "outputs": []
    },
    {
      "cell_type": "code",
      "metadata": {
        "id": "44RbwXYQxpIG",
        "colab_type": "code",
        "colab": {}
      },
      "source": [
        "import pandas as pd\n",
        "import numpy as np"
      ],
      "execution_count": 0,
      "outputs": []
    },
    {
      "cell_type": "code",
      "metadata": {
        "id": "1hf08KQcxpIP",
        "colab_type": "code",
        "outputId": "12e3a998-7026-4980-ffac-67974fc77494",
        "colab": {
          "base_uri": "https://localhost:8080/",
          "height": 34
        }
      },
      "source": [
        "np.random.binomial(1, 0.5)"
      ],
      "execution_count": 0,
      "outputs": [
        {
          "output_type": "execute_result",
          "data": {
            "text/plain": [
              "0"
            ]
          },
          "metadata": {
            "tags": []
          },
          "execution_count": 2
        }
      ]
    },
    {
      "cell_type": "code",
      "metadata": {
        "id": "HiuK2HxxxpIU",
        "colab_type": "code",
        "colab": {}
      },
      "source": [
        "np.random.binomial(1000, 0.5)/1000"
      ],
      "execution_count": 0,
      "outputs": []
    },
    {
      "cell_type": "markdown",
      "metadata": {
        "id": "-UTgqtYt8-kc",
        "colab_type": "text"
      },
      "source": [
        "n: the number of times we perform our experiment. In our coin example, n is equal to 20 (each experiment is 1 flip of the coin).  \n",
        "p: the probability of success. For a fair coin, it would be 50%.  \n",
        "k: size of simulations of flipping a fair ( tested 10000 times)"
      ]
    },
    {
      "cell_type": "code",
      "metadata": {
        "id": "EC1Dk6cy83pg",
        "colab_type": "code",
        "outputId": "0c42c7c1-5396-4f64-f205-2e2f84add282",
        "colab": {
          "base_uri": "https://localhost:8080/",
          "height": 51
        }
      },
      "source": [
        "x = np.random.binomial(20, .5, 10000)\n",
        "print(x)\n",
        "print((x>=15).mean())"
      ],
      "execution_count": 0,
      "outputs": [
        {
          "output_type": "stream",
          "text": [
            "[ 6  6 14 ...  8 10  8]\n",
            "0.0211\n"
          ],
          "name": "stdout"
        }
      ]
    },
    {
      "cell_type": "code",
      "metadata": {
        "id": "R7OenCe7xpIa",
        "colab_type": "code",
        "outputId": "5ccf60ef-a3bd-466a-f0a9-6dc0202696e1",
        "colab": {
          "base_uri": "https://localhost:8080/",
          "height": 34
        }
      },
      "source": [
        "chance_of_tornado = 0.01/100\n",
        "np.random.binomial(100000, chance_of_tornado)"
      ],
      "execution_count": 0,
      "outputs": [
        {
          "output_type": "execute_result",
          "data": {
            "text/plain": [
              "8"
            ]
          },
          "metadata": {
            "tags": []
          },
          "execution_count": 7
        }
      ]
    },
    {
      "cell_type": "markdown",
      "metadata": {
        "id": "QRECahIH_fS-",
        "colab_type": "text"
      },
      "source": [
        "Два дня подряд "
      ]
    },
    {
      "cell_type": "code",
      "metadata": {
        "id": "bSr7a1ZKxpIh",
        "colab_type": "code",
        "outputId": "98e7aa14-8000-4e9d-c065-ecb580955a1e",
        "colab": {
          "base_uri": "https://localhost:8080/",
          "height": 34
        }
      },
      "source": [
        "chance_of_tornado = 0.01\n",
        "\n",
        "tornado_events = np.random.binomial(1, chance_of_tornado, 1000000)\n",
        "    \n",
        "two_days_in_a_row = 0\n",
        "for j in range(1,len(tornado_events)-1):\n",
        "    if tornado_events[j]==1 and tornado_events[j-1]==1:\n",
        "        two_days_in_a_row+=1\n",
        "\n",
        "print('{} tornadoes back to back in {} years'.format(two_days_in_a_row, 1000000/365))"
      ],
      "execution_count": 0,
      "outputs": [
        {
          "output_type": "stream",
          "text": [
            "90 tornadoes back to back in 2739.72602739726 years\n"
          ],
          "name": "stdout"
        }
      ]
    },
    {
      "cell_type": "code",
      "metadata": {
        "id": "O4wfqVHpxpIm",
        "colab_type": "code",
        "outputId": "a005eb5d-3a75-4f11-e1b6-74910a099a4d",
        "colab": {
          "base_uri": "https://localhost:8080/",
          "height": 34
        }
      },
      "source": [
        "np.random.uniform(0, 1)"
      ],
      "execution_count": 0,
      "outputs": [
        {
          "output_type": "execute_result",
          "data": {
            "text/plain": [
              "0.021213766275269608"
            ]
          },
          "metadata": {
            "tags": []
          },
          "execution_count": 16
        }
      ]
    },
    {
      "cell_type": "code",
      "metadata": {
        "id": "Z_FO2nSuxpIr",
        "colab_type": "code",
        "colab": {}
      },
      "source": [
        "np.random.normal(0.75)"
      ],
      "execution_count": 0,
      "outputs": []
    },
    {
      "cell_type": "markdown",
      "metadata": {
        "id": "Yik07sWgxpIx",
        "colab_type": "text"
      },
      "source": [
        "Formula for standard deviation\n",
        "$$\\sqrt{\\frac{1}{N} \\sum_{i=1}^N (x_i - \\overline{x})^2}$$"
      ]
    },
    {
      "cell_type": "code",
      "metadata": {
        "id": "w6X53NtOxpIy",
        "colab_type": "code",
        "colab": {}
      },
      "source": [
        "distribution = np.random.normal(0.75,size=1000)\n",
        "\n",
        "np.sqrt(np.sum((np.mean(distribution)-distribution)**2)/len(distribution))"
      ],
      "execution_count": 0,
      "outputs": []
    },
    {
      "cell_type": "code",
      "metadata": {
        "scrolled": true,
        "id": "kATNpdQVxpI5",
        "colab_type": "code",
        "colab": {}
      },
      "source": [
        "np.std(distribution)"
      ],
      "execution_count": 0,
      "outputs": []
    },
    {
      "cell_type": "code",
      "metadata": {
        "id": "c8qagBMuxpI_",
        "colab_type": "code",
        "colab": {}
      },
      "source": [
        "import scipy.stats as stats\n",
        "stats.kurtosis(distribution)"
      ],
      "execution_count": 0,
      "outputs": []
    },
    {
      "cell_type": "code",
      "metadata": {
        "id": "_Q4H7yQAxpJG",
        "colab_type": "code",
        "colab": {}
      },
      "source": [
        "stats.skew(distribution)"
      ],
      "execution_count": 0,
      "outputs": []
    },
    {
      "cell_type": "code",
      "metadata": {
        "id": "b9AoIN1SxpJL",
        "colab_type": "code",
        "colab": {}
      },
      "source": [
        "chi_squared_df2 = np.random.chisquare(2, size=10000)\n",
        "stats.skew(chi_squared_df2)"
      ],
      "execution_count": 0,
      "outputs": []
    },
    {
      "cell_type": "code",
      "metadata": {
        "id": "56x_eSeJxpJS",
        "colab_type": "code",
        "colab": {}
      },
      "source": [
        "chi_squared_df5 = np.random.chisquare(5, size=10000)\n",
        "stats.skew(chi_squared_df5)"
      ],
      "execution_count": 0,
      "outputs": []
    },
    {
      "cell_type": "code",
      "metadata": {
        "id": "zp8G2rLRxpJY",
        "colab_type": "code",
        "colab": {}
      },
      "source": [
        "%matplotlib inline\n",
        "import matplotlib\n",
        "import matplotlib.pyplot as plt\n",
        "\n",
        "output = plt.hist([chi_squared_df2,chi_squared_df5], bins=50, histtype='step', \n",
        "                  label=['2 degrees of freedom','5 degrees of freedom'])\n",
        "plt.legend(loc='upper right')\n"
      ],
      "execution_count": 0,
      "outputs": []
    },
    {
      "cell_type": "markdown",
      "metadata": {
        "id": "SCN-zcjTxpJc",
        "colab_type": "text"
      },
      "source": [
        "# Hypothesis Testing"
      ]
    },
    {
      "cell_type": "code",
      "metadata": {
        "id": "mGeUNNtexpJd",
        "colab_type": "code",
        "colab": {}
      },
      "source": [
        "df = pd.read_csv( path  + 'grades.csv')"
      ],
      "execution_count": 0,
      "outputs": []
    },
    {
      "cell_type": "code",
      "metadata": {
        "id": "uC0s0rSCxpJj",
        "colab_type": "code",
        "outputId": "48b7b255-2725-43ae-a85d-2499719cf8ec",
        "colab": {
          "base_uri": "https://localhost:8080/",
          "height": 889
        }
      },
      "source": [
        "df.head(10)"
      ],
      "execution_count": 0,
      "outputs": [
        {
          "output_type": "execute_result",
          "data": {
            "text/html": [
              "<div>\n",
              "<style scoped>\n",
              "    .dataframe tbody tr th:only-of-type {\n",
              "        vertical-align: middle;\n",
              "    }\n",
              "\n",
              "    .dataframe tbody tr th {\n",
              "        vertical-align: top;\n",
              "    }\n",
              "\n",
              "    .dataframe thead th {\n",
              "        text-align: right;\n",
              "    }\n",
              "</style>\n",
              "<table border=\"1\" class=\"dataframe\">\n",
              "  <thead>\n",
              "    <tr style=\"text-align: right;\">\n",
              "      <th></th>\n",
              "      <th>student_id</th>\n",
              "      <th>assignment1_grade</th>\n",
              "      <th>assignment1_submission</th>\n",
              "      <th>assignment2_grade</th>\n",
              "      <th>assignment2_submission</th>\n",
              "      <th>assignment3_grade</th>\n",
              "      <th>assignment3_submission</th>\n",
              "      <th>assignment4_grade</th>\n",
              "      <th>assignment4_submission</th>\n",
              "      <th>assignment5_grade</th>\n",
              "      <th>assignment5_submission</th>\n",
              "      <th>assignment6_grade</th>\n",
              "      <th>assignment6_submission</th>\n",
              "    </tr>\n",
              "  </thead>\n",
              "  <tbody>\n",
              "    <tr>\n",
              "      <th>0</th>\n",
              "      <td>B73F2C11-70F0-E37D-8B10-1D20AFED50B1</td>\n",
              "      <td>92.733946</td>\n",
              "      <td>2015-11-02 06:55:34.282000000</td>\n",
              "      <td>83.030552</td>\n",
              "      <td>2015-11-09 02:22:58.938000000</td>\n",
              "      <td>67.164441</td>\n",
              "      <td>2015-11-12 08:58:33.998000000</td>\n",
              "      <td>53.011553</td>\n",
              "      <td>2015-11-16 01:21:24.663000000</td>\n",
              "      <td>47.710398</td>\n",
              "      <td>2015-11-20 13:24:59.692000000</td>\n",
              "      <td>38.168318</td>\n",
              "      <td>2015-11-22 18:31:15.934000000</td>\n",
              "    </tr>\n",
              "    <tr>\n",
              "      <th>1</th>\n",
              "      <td>98A0FAE0-A19A-13D2-4BB5-CFBFD94031D1</td>\n",
              "      <td>86.790821</td>\n",
              "      <td>2015-11-29 14:57:44.429000000</td>\n",
              "      <td>86.290821</td>\n",
              "      <td>2015-12-06 17:41:18.449000000</td>\n",
              "      <td>69.772657</td>\n",
              "      <td>2015-12-10 08:54:55.904000000</td>\n",
              "      <td>55.098125</td>\n",
              "      <td>2015-12-13 17:32:30.941000000</td>\n",
              "      <td>49.588313</td>\n",
              "      <td>2015-12-19 23:26:39.285000000</td>\n",
              "      <td>44.629482</td>\n",
              "      <td>2015-12-21 17:07:24.275000000</td>\n",
              "    </tr>\n",
              "    <tr>\n",
              "      <th>2</th>\n",
              "      <td>D0F62040-CEB0-904C-F563-2F8620916C4E</td>\n",
              "      <td>85.512541</td>\n",
              "      <td>2016-01-09 05:36:02.389000000</td>\n",
              "      <td>85.512541</td>\n",
              "      <td>2016-01-09 06:39:44.416000000</td>\n",
              "      <td>68.410033</td>\n",
              "      <td>2016-01-15 20:22:45.882000000</td>\n",
              "      <td>54.728026</td>\n",
              "      <td>2016-01-11 12:41:50.749000000</td>\n",
              "      <td>49.255224</td>\n",
              "      <td>2016-01-11 17:31:12.489000000</td>\n",
              "      <td>44.329701</td>\n",
              "      <td>2016-01-17 16:24:42.765000000</td>\n",
              "    </tr>\n",
              "    <tr>\n",
              "      <th>3</th>\n",
              "      <td>FFDF2B2C-F514-EF7F-6538-A6A53518E9DC</td>\n",
              "      <td>86.030665</td>\n",
              "      <td>2016-04-30 06:50:39.801000000</td>\n",
              "      <td>68.824532</td>\n",
              "      <td>2016-04-30 17:20:38.727000000</td>\n",
              "      <td>61.942079</td>\n",
              "      <td>2016-05-12 07:47:16.326000000</td>\n",
              "      <td>49.553663</td>\n",
              "      <td>2016-05-07 16:09:20.485000000</td>\n",
              "      <td>49.553663</td>\n",
              "      <td>2016-05-24 12:51:18.016000000</td>\n",
              "      <td>44.598297</td>\n",
              "      <td>2016-05-26 08:09:12.058000000</td>\n",
              "    </tr>\n",
              "    <tr>\n",
              "      <th>4</th>\n",
              "      <td>5ECBEEB6-F1CE-80AE-3164-E45E99473FB4</td>\n",
              "      <td>64.813800</td>\n",
              "      <td>2015-12-13 17:06:10.750000000</td>\n",
              "      <td>51.491040</td>\n",
              "      <td>2015-12-14 12:25:12.056000000</td>\n",
              "      <td>41.932832</td>\n",
              "      <td>2015-12-29 14:25:22.594000000</td>\n",
              "      <td>36.929549</td>\n",
              "      <td>2015-12-28 01:29:55.901000000</td>\n",
              "      <td>33.236594</td>\n",
              "      <td>2015-12-29 14:46:06.628000000</td>\n",
              "      <td>33.236594</td>\n",
              "      <td>2016-01-05 01:06:59.546000000</td>\n",
              "    </tr>\n",
              "    <tr>\n",
              "      <th>5</th>\n",
              "      <td>D09000A0-827B-C0FF-3433-BF8FF286E15B</td>\n",
              "      <td>71.647278</td>\n",
              "      <td>2015-12-28 04:35:32.836000000</td>\n",
              "      <td>64.052550</td>\n",
              "      <td>2016-01-03 21:05:38.392000000</td>\n",
              "      <td>64.752550</td>\n",
              "      <td>2016-01-07 08:55:43.692000000</td>\n",
              "      <td>57.467295</td>\n",
              "      <td>2016-01-11 00:45:28.706000000</td>\n",
              "      <td>57.467295</td>\n",
              "      <td>2016-01-11 00:54:13.579000000</td>\n",
              "      <td>57.467295</td>\n",
              "      <td>2016-01-20 19:54:46.166000000</td>\n",
              "    </tr>\n",
              "    <tr>\n",
              "      <th>6</th>\n",
              "      <td>3217BE3F-E4B0-C3B6-9F64-462456819CE4</td>\n",
              "      <td>87.498744</td>\n",
              "      <td>2016-03-05 11:05:25.408000000</td>\n",
              "      <td>69.998995</td>\n",
              "      <td>2016-03-09 07:29:52.405000000</td>\n",
              "      <td>55.999196</td>\n",
              "      <td>2016-03-16 22:31:24.316000000</td>\n",
              "      <td>50.399276</td>\n",
              "      <td>2016-03-18 07:19:26.032000000</td>\n",
              "      <td>45.359349</td>\n",
              "      <td>2016-03-19 10:35:41.869000000</td>\n",
              "      <td>45.359349</td>\n",
              "      <td>2016-03-23 14:02:00.987000000</td>\n",
              "    </tr>\n",
              "    <tr>\n",
              "      <th>7</th>\n",
              "      <td>F1CB5AA1-B3DE-5460-FAFF-BE951FD38B5F</td>\n",
              "      <td>80.576090</td>\n",
              "      <td>2016-01-24 18:24:25.619000000</td>\n",
              "      <td>72.518481</td>\n",
              "      <td>2016-01-27 13:37:12.943000000</td>\n",
              "      <td>65.266633</td>\n",
              "      <td>2016-01-30 14:34:36.581000000</td>\n",
              "      <td>65.266633</td>\n",
              "      <td>2016-02-03 22:08:49.002000000</td>\n",
              "      <td>65.266633</td>\n",
              "      <td>2016-02-16 14:22:23.664000000</td>\n",
              "      <td>65.266633</td>\n",
              "      <td>2016-02-18 08:35:04.796000000</td>\n",
              "    </tr>\n",
              "    <tr>\n",
              "      <th>8</th>\n",
              "      <td>C9D51293-BD58-F113-4167-A7C0BAFCB6E5</td>\n",
              "      <td>66.595568</td>\n",
              "      <td>2015-12-25 02:29:28.415000000</td>\n",
              "      <td>52.916454</td>\n",
              "      <td>2015-12-31 01:42:30.046000000</td>\n",
              "      <td>48.344809</td>\n",
              "      <td>2016-01-05 23:34:02.180000000</td>\n",
              "      <td>47.444809</td>\n",
              "      <td>2016-01-02 07:48:42.517000000</td>\n",
              "      <td>37.955847</td>\n",
              "      <td>2016-01-03 21:27:04.266000000</td>\n",
              "      <td>37.955847</td>\n",
              "      <td>2016-01-19 15:24:31.060000000</td>\n",
              "    </tr>\n",
              "    <tr>\n",
              "      <th>9</th>\n",
              "      <td>E2C617C2-4654-622C-AB50-1550C4BE42A0</td>\n",
              "      <td>59.270882</td>\n",
              "      <td>2016-03-06 12:06:26.185000000</td>\n",
              "      <td>59.270882</td>\n",
              "      <td>2016-03-13 02:07:25.289000000</td>\n",
              "      <td>53.343794</td>\n",
              "      <td>2016-03-17 07:30:09.241000000</td>\n",
              "      <td>53.343794</td>\n",
              "      <td>2016-03-20 21:45:56.229000000</td>\n",
              "      <td>42.675035</td>\n",
              "      <td>2016-03-27 15:55:04.414000000</td>\n",
              "      <td>38.407532</td>\n",
              "      <td>2016-03-30 20:33:13.554000000</td>\n",
              "    </tr>\n",
              "  </tbody>\n",
              "</table>\n",
              "</div>"
            ],
            "text/plain": [
              "                             student_id  ...         assignment6_submission\n",
              "0  B73F2C11-70F0-E37D-8B10-1D20AFED50B1  ...  2015-11-22 18:31:15.934000000\n",
              "1  98A0FAE0-A19A-13D2-4BB5-CFBFD94031D1  ...  2015-12-21 17:07:24.275000000\n",
              "2  D0F62040-CEB0-904C-F563-2F8620916C4E  ...  2016-01-17 16:24:42.765000000\n",
              "3  FFDF2B2C-F514-EF7F-6538-A6A53518E9DC  ...  2016-05-26 08:09:12.058000000\n",
              "4  5ECBEEB6-F1CE-80AE-3164-E45E99473FB4  ...  2016-01-05 01:06:59.546000000\n",
              "5  D09000A0-827B-C0FF-3433-BF8FF286E15B  ...  2016-01-20 19:54:46.166000000\n",
              "6  3217BE3F-E4B0-C3B6-9F64-462456819CE4  ...  2016-03-23 14:02:00.987000000\n",
              "7  F1CB5AA1-B3DE-5460-FAFF-BE951FD38B5F  ...  2016-02-18 08:35:04.796000000\n",
              "8  C9D51293-BD58-F113-4167-A7C0BAFCB6E5  ...  2016-01-19 15:24:31.060000000\n",
              "9  E2C617C2-4654-622C-AB50-1550C4BE42A0  ...  2016-03-30 20:33:13.554000000\n",
              "\n",
              "[10 rows x 13 columns]"
            ]
          },
          "metadata": {
            "tags": []
          },
          "execution_count": 8
        }
      ]
    },
    {
      "cell_type": "code",
      "metadata": {
        "id": "UtsRhfqOxpJo",
        "colab_type": "code",
        "outputId": "e4b0118a-0e51-4cb7-8f38-9e5a8007846b",
        "colab": {
          "base_uri": "https://localhost:8080/",
          "height": 34
        }
      },
      "source": [
        "len(df)"
      ],
      "execution_count": 0,
      "outputs": [
        {
          "output_type": "execute_result",
          "data": {
            "text/plain": [
              "2315"
            ]
          },
          "metadata": {
            "tags": []
          },
          "execution_count": 6
        }
      ]
    },
    {
      "cell_type": "code",
      "metadata": {
        "id": "JLjeiIZuxpJs",
        "colab_type": "code",
        "colab": {}
      },
      "source": [
        "early = df[df['assignment1_submission'] <= '2015-12-31']\n",
        "late = df[df['assignment1_submission'] > '2015-12-31']"
      ],
      "execution_count": 0,
      "outputs": []
    },
    {
      "cell_type": "code",
      "metadata": {
        "id": "k-dtwhRTxpJx",
        "colab_type": "code",
        "outputId": "df4b21b9-27a5-4875-cca7-6ec952a1d427",
        "colab": {
          "base_uri": "https://localhost:8080/",
          "height": 136
        }
      },
      "source": [
        "early.mean()"
      ],
      "execution_count": 0,
      "outputs": [
        {
          "output_type": "execute_result",
          "data": {
            "text/plain": [
              "assignment1_grade    74.972741\n",
              "assignment2_grade    67.252190\n",
              "assignment3_grade    61.129050\n",
              "assignment4_grade    54.157620\n",
              "assignment5_grade    48.634643\n",
              "assignment6_grade    43.838980\n",
              "dtype: float64"
            ]
          },
          "metadata": {
            "tags": []
          },
          "execution_count": 10
        }
      ]
    },
    {
      "cell_type": "code",
      "metadata": {
        "id": "fIPcKjt8xpJ5",
        "colab_type": "code",
        "outputId": "5ab7f522-af00-48eb-8178-a530cdce89ce",
        "colab": {
          "base_uri": "https://localhost:8080/",
          "height": 136
        }
      },
      "source": [
        "late.mean()"
      ],
      "execution_count": 0,
      "outputs": [
        {
          "output_type": "execute_result",
          "data": {
            "text/plain": [
              "assignment1_grade    74.017429\n",
              "assignment2_grade    66.370822\n",
              "assignment3_grade    60.023244\n",
              "assignment4_grade    54.058138\n",
              "assignment5_grade    48.599402\n",
              "assignment6_grade    43.844384\n",
              "dtype: float64"
            ]
          },
          "metadata": {
            "tags": []
          },
          "execution_count": 11
        }
      ]
    },
    {
      "cell_type": "code",
      "metadata": {
        "id": "24MPpAo7xpKE",
        "colab_type": "code",
        "colab": {}
      },
      "source": [
        "from scipy import stats\n",
        "stats.ttest_ind?"
      ],
      "execution_count": 0,
      "outputs": []
    },
    {
      "cell_type": "code",
      "metadata": {
        "id": "R7TUrFCGxpKN",
        "colab_type": "code",
        "outputId": "c66c00a6-a2d7-4d0a-85e0-785febe9425d",
        "colab": {
          "base_uri": "https://localhost:8080/",
          "height": 34
        }
      },
      "source": [
        "stats.ttest_ind(early['assignment1_grade'], late['assignment1_grade'])"
      ],
      "execution_count": 0,
      "outputs": [
        {
          "output_type": "execute_result",
          "data": {
            "text/plain": [
              "Ttest_indResult(statistic=1.400549944897566, pvalue=0.16148283016060577)"
            ]
          },
          "metadata": {
            "tags": []
          },
          "execution_count": 13
        }
      ]
    },
    {
      "cell_type": "code",
      "metadata": {
        "id": "600cO-OhHpiY",
        "colab_type": "code",
        "outputId": "bed2783e-e29a-4365-c806-335bb5bba1fc",
        "colab": {
          "base_uri": "https://localhost:8080/",
          "height": 221
        }
      },
      "source": [
        "late['assignment1_grade']"
      ],
      "execution_count": 0,
      "outputs": [
        {
          "output_type": "execute_result",
          "data": {
            "text/plain": [
              "2       85.512541\n",
              "3       86.030665\n",
              "6       87.498744\n",
              "7       80.576090\n",
              "9       59.270882\n",
              "          ...    \n",
              "2303    97.215052\n",
              "2306    47.696703\n",
              "2307    94.595758\n",
              "2310    77.684611\n",
              "2313    87.268366\n",
              "Name: assignment1_grade, Length: 1059, dtype: float64"
            ]
          },
          "metadata": {
            "tags": []
          },
          "execution_count": 11
        }
      ]
    },
    {
      "cell_type": "code",
      "metadata": {
        "id": "ZigXStJhFa6Y",
        "colab_type": "code",
        "outputId": "cb515156-2034-4e7a-8fd0-6daac6541fba",
        "colab": {
          "base_uri": "https://localhost:8080/",
          "height": 221
        }
      },
      "source": [
        "early['assignment1_grade']"
      ],
      "execution_count": 0,
      "outputs": [
        {
          "output_type": "execute_result",
          "data": {
            "text/plain": [
              "0       92.733946\n",
              "1       86.790821\n",
              "4       64.813800\n",
              "5       71.647278\n",
              "8       66.595568\n",
              "          ...    \n",
              "2308    71.481182\n",
              "2309    82.640274\n",
              "2311    75.367870\n",
              "2312    73.269463\n",
              "2314    80.318105\n",
              "Name: assignment1_grade, Length: 1256, dtype: float64"
            ]
          },
          "metadata": {
            "tags": []
          },
          "execution_count": 10
        }
      ]
    },
    {
      "cell_type": "code",
      "metadata": {
        "id": "bIcZyMUfxpKR",
        "colab_type": "code",
        "outputId": "505b3d40-137e-4084-a210-20c14aa774cc",
        "colab": {
          "base_uri": "https://localhost:8080/",
          "height": 34
        }
      },
      "source": [
        "stats.ttest_ind(early['assignment2_grade'], late['assignment2_grade'])"
      ],
      "execution_count": 0,
      "outputs": [
        {
          "output_type": "execute_result",
          "data": {
            "text/plain": [
              "Ttest_indResult(statistic=1.3239868220912567, pvalue=0.18563824610067967)"
            ]
          },
          "metadata": {
            "tags": []
          },
          "execution_count": 14
        }
      ]
    },
    {
      "cell_type": "code",
      "metadata": {
        "id": "Yl0xqpyXxpKV",
        "colab_type": "code",
        "outputId": "e4f098e8-7b09-49ab-a5b7-b9d80bc89254",
        "colab": {
          "base_uri": "https://localhost:8080/",
          "height": 34
        }
      },
      "source": [
        "stats.ttest_ind(early['assignment3_grade'], late['assignment3_grade'])"
      ],
      "execution_count": 0,
      "outputs": [
        {
          "output_type": "execute_result",
          "data": {
            "text/plain": [
              "Ttest_indResult(statistic=1.7116160037010733, pvalue=0.08710151634155668)"
            ]
          },
          "metadata": {
            "tags": []
          },
          "execution_count": 15
        }
      ]
    }
  ]
}
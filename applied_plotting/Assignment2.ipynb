{
  "nbformat": 4,
  "nbformat_minor": 0,
  "metadata": {
    "kernelspec": {
      "display_name": "Python 3",
      "language": "python",
      "name": "python3"
    },
    "language_info": {
      "codemirror_mode": {
        "name": "ipython",
        "version": 3
      },
      "file_extension": ".py",
      "mimetype": "text/x-python",
      "name": "python",
      "nbconvert_exporter": "python",
      "pygments_lexer": "ipython3",
      "version": "3.6.2"
    },
    "colab": {
      "name": "Assignment2.ipynb",
      "provenance": [],
      "include_colab_link": true
    }
  },
  "cells": [
    {
      "cell_type": "markdown",
      "metadata": {
        "id": "view-in-github",
        "colab_type": "text"
      },
      "source": [
        "<a href=\"https://colab.research.google.com/github/maab2198/applied_ds_python/blob/course2/applied_plotting/Assignment2.ipynb\" target=\"_parent\"><img src=\"https://colab.research.google.com/assets/colab-badge.svg\" alt=\"Open In Colab\"/></a>"
      ]
    },
    {
      "cell_type": "markdown",
      "metadata": {
        "id": "PWnC1hjlSM2L",
        "colab_type": "text"
      },
      "source": [
        "# Assignment 2\n",
        "\n",
        "Before working on this assignment please read these instructions fully. In the submission area, you will notice that you can click the link to **Preview the Grading** for each step of the assignment. This is the criteria that will be used for peer grading. Please familiarize yourself with the criteria before beginning the assignment.\n",
        "\n",
        "An NOAA dataset has been stored in the file `data/C2A2_data/BinnedCsvs_d400/fb441e62df2d58994928907a91895ec62c2c42e6cd075c2700843b89.csv`. The data for this assignment comes from a subset of The National Centers for Environmental Information (NCEI) [Daily Global Historical Climatology Network](https://www1.ncdc.noaa.gov/pub/data/ghcn/daily/readme.txt) (GHCN-Daily). The GHCN-Daily is comprised of daily climate records from thousands of land surface stations across the globe.\n",
        "\n",
        "Each row in the assignment datafile corresponds to a single observation.\n",
        "\n",
        "The following variables are provided to you:\n",
        "\n",
        "* **id** : station identification code\n",
        "* **date** : date in YYYY-MM-DD format (e.g. 2012-01-24 = January 24, 2012)\n",
        "* **element** : indicator of element type\n",
        "    * TMAX : Maximum temperature (tenths of degrees C)\n",
        "    * TMIN : Minimum temperature (tenths of degrees C)\n",
        "* **value** : data value for element (tenths of degrees C)\n",
        "\n",
        "For this assignment, you must:\n",
        "\n",
        "1. Read the documentation and familiarize yourself with the dataset, then write some python code which returns a line graph of the record high and record low temperatures by day of the year over the period 2005-2014. The area between the record high and record low temperatures for each day should be shaded.\n",
        "2. Overlay a scatter of the 2015 data for any points (highs and lows) for which the ten year record (2005-2014) record high or record low was broken in 2015.\n",
        "3. Watch out for leap days (i.e. February 29th), it is reasonable to remove these points from the dataset for the purpose of this visualization.\n",
        "4. Make the visual nice! Leverage principles from the first module in this course when developing your solution. Consider issues such as legends, labels, and chart junk.\n",
        "\n",
        "The data you have been given is near **Ann Arbor, Michigan, United States**, and the stations the data comes from are shown on the map below."
      ]
    },
    {
      "cell_type": "code",
      "metadata": {
        "id": "1yF2kI6HSTYY",
        "colab_type": "code",
        "outputId": "3bc1be8b-081b-4975-fa34-727722ef7899",
        "colab": {
          "base_uri": "https://localhost:8080/",
          "height": 34
        }
      },
      "source": [
        "from google.colab import drive\n",
        "\n",
        "drive.mount('/content/gdrive',force_remount=True)"
      ],
      "execution_count": 0,
      "outputs": [
        {
          "output_type": "stream",
          "text": [
            "Mounted at /content/gdrive\n"
          ],
          "name": "stdout"
        }
      ]
    },
    {
      "cell_type": "code",
      "metadata": {
        "id": "pk-OeM4sSecn",
        "colab_type": "code",
        "outputId": "5d88ea57-f13f-4ccb-a735-ed9b088463b3",
        "colab": {
          "base_uri": "https://localhost:8080/",
          "height": 34
        }
      },
      "source": [
        "!cp -r gdrive/'My Drive'/applied_ds/applied_plotting/data ./\n",
        "!ls "
      ],
      "execution_count": 0,
      "outputs": [
        {
          "output_type": "stream",
          "text": [
            "data  gdrive  sample_data\n"
          ],
          "name": "stdout"
        }
      ]
    },
    {
      "cell_type": "code",
      "metadata": {
        "id": "DnmUM0HvSM2Q",
        "colab_type": "code",
        "outputId": "008104a9-aa6f-4a45-97fc-7c909deb3877",
        "colab": {
          "base_uri": "https://localhost:8080/",
          "height": 482
        }
      },
      "source": [
        "import matplotlib.pyplot as plt\n",
        "# import mplleaflet\n",
        "\n",
        "import matplotlib.ticker as ticker\n",
        "import matplotlib.dates as mdates\n",
        "import pandas as pd\n",
        "import numpy as np\n",
        "\n",
        "\n",
        "#coursera function for map visualization\n",
        "def leaflet_plot_stations(binsize, hashid):\n",
        "\n",
        "    df = pd.read_csv('data/C2A2_data/BinSize_d{}.csv'.format(binsize))\n",
        "\n",
        "    station_locations_by_hash = df[df['hash'] == hashid]\n",
        "\n",
        "    lons = station_locations_by_hash['LONGITUDE'].tolist()\n",
        "    lats = station_locations_by_hash['LATITUDE'].tolist()\n",
        "\n",
        "    plt.figure(figsize=(8,8))\n",
        "\n",
        "    plt.scatter(lons, lats, c='r', alpha=0.7, s=200)\n",
        "\n",
        "    # return station_locations_by_hash\n",
        "    return\n",
        "\n",
        "leaflet_plot_stations(400,'fb441e62df2d58994928907a91895ec62c2c42e6cd075c2700843b89')"
      ],
      "execution_count": 0,
      "outputs": [
        {
          "output_type": "display_data",
          "data": {
            "image/png": "[encoded data removed]",
            "text/plain": [
              "<Figure size 576x576 with 1 Axes>"
            ]
          },
          "metadata": {
            "tags": []
          }
        }
      ]
    },
    {
      "cell_type": "code",
      "metadata": {
        "id": "_zI8gpV3T4Gc",
        "colab_type": "code",
        "outputId": "d3457432-adb1-4250-995e-f99dfabee059",
        "colab": {
          "base_uri": "https://localhost:8080/",
          "height": 406
        }
      },
      "source": [
        "path = 'data/C2A2_data/BinnedCsvs_d'+str(binsize)+'/'+hashid+\".csv\"\n",
        "df = pd.read_csv(path)\n",
        "df"
      ],
      "execution_count": 0,
      "outputs": [
        {
          "output_type": "execute_result",
          "data": {
            "text/html": [
              "<div>\n",
              "<style scoped>\n",
              "    .dataframe tbody tr th:only-of-type {\n",
              "        vertical-align: middle;\n",
              "    }\n",
              "\n",
              "    .dataframe tbody tr th {\n",
              "        vertical-align: top;\n",
              "    }\n",
              "\n",
              "    .dataframe thead th {\n",
              "        text-align: right;\n",
              "    }\n",
              "</style>\n",
              "<table border=\"1\" class=\"dataframe\">\n",
              "  <thead>\n",
              "    <tr style=\"text-align: right;\">\n",
              "      <th></th>\n",
              "      <th>ID</th>\n",
              "      <th>Date</th>\n",
              "      <th>Element</th>\n",
              "      <th>Data_Value</th>\n",
              "    </tr>\n",
              "  </thead>\n",
              "  <tbody>\n",
              "    <tr>\n",
              "      <th>0</th>\n",
              "      <td>USW00094889</td>\n",
              "      <td>2014-11-12</td>\n",
              "      <td>TMAX</td>\n",
              "      <td>22</td>\n",
              "    </tr>\n",
              "    <tr>\n",
              "      <th>1</th>\n",
              "      <td>USC00208972</td>\n",
              "      <td>2009-04-29</td>\n",
              "      <td>TMIN</td>\n",
              "      <td>56</td>\n",
              "    </tr>\n",
              "    <tr>\n",
              "      <th>2</th>\n",
              "      <td>USC00200032</td>\n",
              "      <td>2008-05-26</td>\n",
              "      <td>TMAX</td>\n",
              "      <td>278</td>\n",
              "    </tr>\n",
              "    <tr>\n",
              "      <th>3</th>\n",
              "      <td>USC00205563</td>\n",
              "      <td>2005-11-11</td>\n",
              "      <td>TMAX</td>\n",
              "      <td>139</td>\n",
              "    </tr>\n",
              "    <tr>\n",
              "      <th>4</th>\n",
              "      <td>USC00200230</td>\n",
              "      <td>2014-02-27</td>\n",
              "      <td>TMAX</td>\n",
              "      <td>-106</td>\n",
              "    </tr>\n",
              "    <tr>\n",
              "      <th>...</th>\n",
              "      <td>...</td>\n",
              "      <td>...</td>\n",
              "      <td>...</td>\n",
              "      <td>...</td>\n",
              "    </tr>\n",
              "    <tr>\n",
              "      <th>165080</th>\n",
              "      <td>USC00205822</td>\n",
              "      <td>2015-06-09</td>\n",
              "      <td>TMAX</td>\n",
              "      <td>256</td>\n",
              "    </tr>\n",
              "    <tr>\n",
              "      <th>165081</th>\n",
              "      <td>USC00205822</td>\n",
              "      <td>2009-10-06</td>\n",
              "      <td>TMAX</td>\n",
              "      <td>167</td>\n",
              "    </tr>\n",
              "    <tr>\n",
              "      <th>165082</th>\n",
              "      <td>USC00205050</td>\n",
              "      <td>2014-07-14</td>\n",
              "      <td>TMAX</td>\n",
              "      <td>283</td>\n",
              "    </tr>\n",
              "    <tr>\n",
              "      <th>165083</th>\n",
              "      <td>USC00200230</td>\n",
              "      <td>2006-11-29</td>\n",
              "      <td>TMIN</td>\n",
              "      <td>117</td>\n",
              "    </tr>\n",
              "    <tr>\n",
              "      <th>165084</th>\n",
              "      <td>USC00207312</td>\n",
              "      <td>2006-09-04</td>\n",
              "      <td>TMIN</td>\n",
              "      <td>111</td>\n",
              "    </tr>\n",
              "  </tbody>\n",
              "</table>\n",
              "<p>165085 rows × 4 columns</p>\n",
              "</div>"
            ],
            "text/plain": [
              "                 ID        Date Element  Data_Value\n",
              "0       USW00094889  2014-11-12    TMAX          22\n",
              "1       USC00208972  2009-04-29    TMIN          56\n",
              "2       USC00200032  2008-05-26    TMAX         278\n",
              "3       USC00205563  2005-11-11    TMAX         139\n",
              "4       USC00200230  2014-02-27    TMAX        -106\n",
              "...             ...         ...     ...         ...\n",
              "165080  USC00205822  2015-06-09    TMAX         256\n",
              "165081  USC00205822  2009-10-06    TMAX         167\n",
              "165082  USC00205050  2014-07-14    TMAX         283\n",
              "165083  USC00200230  2006-11-29    TMIN         117\n",
              "165084  USC00207312  2006-09-04    TMIN         111\n",
              "\n",
              "[165085 rows x 4 columns]"
            ]
          },
          "metadata": {
            "tags": []
          },
          "execution_count": 122
        }
      ]
    },
    {
      "cell_type": "code",
      "metadata": {
        "id": "XMUzJI98SM2Z",
        "colab_type": "code",
        "colab": {}
      },
      "source": [
        "df['Data_Value'] = df['Data_Value'].apply(lambda x: x / 10)"
      ],
      "execution_count": 0,
      "outputs": []
    },
    {
      "cell_type": "code",
      "metadata": {
        "id": "N0hgqGBeYQQV",
        "colab_type": "code",
        "colab": {}
      },
      "source": [
        "# min and max temp for each day\n",
        "res_max = df[df['Element'] =='TMAX'].groupby(\"Date\")[\"Data_Value\"].agg(\n",
        "        TMAX= max,\n",
        "    )\n",
        "res_min = df[df['Element'] =='TMIN'].groupby(\"Date\")[\"Data_Value\"].agg(\n",
        "        TMIN= min,\n",
        "    )"
      ],
      "execution_count": 0,
      "outputs": []
    },
    {
      "cell_type": "code",
      "metadata": {
        "id": "DBboNXTkYZLR",
        "colab_type": "code",
        "colab": {}
      },
      "source": [
        "res = pd.merge(res_max,res_min, how='outer', left_index=True, right_index=True)"
      ],
      "execution_count": 0,
      "outputs": []
    },
    {
      "cell_type": "code",
      "metadata": {
        "id": "EnztIbcLU21n",
        "colab_type": "code",
        "outputId": "3d4c93d3-a340-4f8b-fd12-44b880dbe62f",
        "colab": {
          "base_uri": "https://localhost:8080/",
          "height": 406
        }
      },
      "source": [
        "res = res.reset_index()\n",
        "res['Date']= pd.to_datetime(res['Date'])\n",
        "res['year'] = pd.DatetimeIndex(res['Date']).year \n",
        "\n",
        "res[\"m_date\"] = pd.to_datetime(res[\"Date\"]).dt.strftime('%m-%d')\n",
        "\n",
        "res"
      ],
      "execution_count": 0,
      "outputs": [
        {
          "output_type": "execute_result",
          "data": {
            "text/html": [
              "<div>\n",
              "<style scoped>\n",
              "    .dataframe tbody tr th:only-of-type {\n",
              "        vertical-align: middle;\n",
              "    }\n",
              "\n",
              "    .dataframe tbody tr th {\n",
              "        vertical-align: top;\n",
              "    }\n",
              "\n",
              "    .dataframe thead th {\n",
              "        text-align: right;\n",
              "    }\n",
              "</style>\n",
              "<table border=\"1\" class=\"dataframe\">\n",
              "  <thead>\n",
              "    <tr style=\"text-align: right;\">\n",
              "      <th></th>\n",
              "      <th>Date</th>\n",
              "      <th>TMAX</th>\n",
              "      <th>TMIN</th>\n",
              "      <th>year</th>\n",
              "      <th>m_date</th>\n",
              "    </tr>\n",
              "  </thead>\n",
              "  <tbody>\n",
              "    <tr>\n",
              "      <th>0</th>\n",
              "      <td>2005-01-01</td>\n",
              "      <td>15.6</td>\n",
              "      <td>-5.6</td>\n",
              "      <td>2005</td>\n",
              "      <td>01-01</td>\n",
              "    </tr>\n",
              "    <tr>\n",
              "      <th>1</th>\n",
              "      <td>2005-01-02</td>\n",
              "      <td>13.9</td>\n",
              "      <td>-5.6</td>\n",
              "      <td>2005</td>\n",
              "      <td>01-02</td>\n",
              "    </tr>\n",
              "    <tr>\n",
              "      <th>2</th>\n",
              "      <td>2005-01-03</td>\n",
              "      <td>13.3</td>\n",
              "      <td>0.0</td>\n",
              "      <td>2005</td>\n",
              "      <td>01-03</td>\n",
              "    </tr>\n",
              "    <tr>\n",
              "      <th>3</th>\n",
              "      <td>2005-01-04</td>\n",
              "      <td>3.9</td>\n",
              "      <td>-3.9</td>\n",
              "      <td>2005</td>\n",
              "      <td>01-04</td>\n",
              "    </tr>\n",
              "    <tr>\n",
              "      <th>4</th>\n",
              "      <td>2005-01-05</td>\n",
              "      <td>3.3</td>\n",
              "      <td>-9.4</td>\n",
              "      <td>2005</td>\n",
              "      <td>01-05</td>\n",
              "    </tr>\n",
              "    <tr>\n",
              "      <th>...</th>\n",
              "      <td>...</td>\n",
              "      <td>...</td>\n",
              "      <td>...</td>\n",
              "      <td>...</td>\n",
              "      <td>...</td>\n",
              "    </tr>\n",
              "    <tr>\n",
              "      <th>4012</th>\n",
              "      <td>2015-12-27</td>\n",
              "      <td>8.3</td>\n",
              "      <td>-0.6</td>\n",
              "      <td>2015</td>\n",
              "      <td>12-27</td>\n",
              "    </tr>\n",
              "    <tr>\n",
              "      <th>4013</th>\n",
              "      <td>2015-12-28</td>\n",
              "      <td>6.1</td>\n",
              "      <td>-3.9</td>\n",
              "      <td>2015</td>\n",
              "      <td>12-28</td>\n",
              "    </tr>\n",
              "    <tr>\n",
              "      <th>4014</th>\n",
              "      <td>2015-12-29</td>\n",
              "      <td>10.0</td>\n",
              "      <td>-3.9</td>\n",
              "      <td>2015</td>\n",
              "      <td>12-29</td>\n",
              "    </tr>\n",
              "    <tr>\n",
              "      <th>4015</th>\n",
              "      <td>2015-12-30</td>\n",
              "      <td>6.7</td>\n",
              "      <td>-2.2</td>\n",
              "      <td>2015</td>\n",
              "      <td>12-30</td>\n",
              "    </tr>\n",
              "    <tr>\n",
              "      <th>4016</th>\n",
              "      <td>2015-12-31</td>\n",
              "      <td>1.7</td>\n",
              "      <td>-5.6</td>\n",
              "      <td>2015</td>\n",
              "      <td>12-31</td>\n",
              "    </tr>\n",
              "  </tbody>\n",
              "</table>\n",
              "<p>4017 rows × 5 columns</p>\n",
              "</div>"
            ],
            "text/plain": [
              "           Date  TMAX  TMIN  year m_date\n",
              "0    2005-01-01  15.6  -5.6  2005  01-01\n",
              "1    2005-01-02  13.9  -5.6  2005  01-02\n",
              "2    2005-01-03  13.3   0.0  2005  01-03\n",
              "3    2005-01-04   3.9  -3.9  2005  01-04\n",
              "4    2005-01-05   3.3  -9.4  2005  01-05\n",
              "...         ...   ...   ...   ...    ...\n",
              "4012 2015-12-27   8.3  -0.6  2015  12-27\n",
              "4013 2015-12-28   6.1  -3.9  2015  12-28\n",
              "4014 2015-12-29  10.0  -3.9  2015  12-29\n",
              "4015 2015-12-30   6.7  -2.2  2015  12-30\n",
              "4016 2015-12-31   1.7  -5.6  2015  12-31\n",
              "\n",
              "[4017 rows x 5 columns]"
            ]
          },
          "metadata": {
            "tags": []
          },
          "execution_count": 126
        }
      ]
    },
    {
      "cell_type": "code",
      "metadata": {
        "id": "kaQ_DubJl_5h",
        "colab_type": "code",
        "colab": {}
      },
      "source": [
        "# get data for 2005-2014\n",
        "prev_years = res.where((res[\"year\"]< 2015) & (res[\"m_date\"] != '02-29')).groupby(\"m_date\")[\"TMAX\",\"TMIN\"].agg('mean')"
      ],
      "execution_count": 0,
      "outputs": []
    },
    {
      "cell_type": "code",
      "metadata": {
        "id": "YIVAlLRj9ZKx",
        "colab_type": "code",
        "colab": {}
      },
      "source": [
        "# min and max data for 2015\n",
        "res2015 = res[res[\"year\"] == 2015].set_index(\"m_date\")\n",
        "prev_years[\"2015 TMAX\"] = res2015[\"TMAX\"]\n",
        "prev_years[\"2015 TMIN\"] = res2015[\"TMIN\"]"
      ],
      "execution_count": 0,
      "outputs": []
    },
    {
      "cell_type": "code",
      "metadata": {
        "id": "1HeSVM7o9fr5",
        "colab_type": "code",
        "outputId": "dc737104-d33f-4883-b3de-51c459a84301",
        "colab": {
          "base_uri": "https://localhost:8080/",
          "height": 436
        }
      },
      "source": [
        "# check if prev records were broken\n",
        "prev_years[\"NEW MAX\"] = prev_years[\"2015 TMAX\"] > prev_years[\"TMAX\"]\n",
        "prev_years[\"NEW MIN\"] = prev_years[\"2015 TMIN\"] < prev_years[\"TMIN\"]\n",
        "prev_years"
      ],
      "execution_count": 0,
      "outputs": [
        {
          "output_type": "execute_result",
          "data": {
            "text/html": [
              "<div>\n",
              "<style scoped>\n",
              "    .dataframe tbody tr th:only-of-type {\n",
              "        vertical-align: middle;\n",
              "    }\n",
              "\n",
              "    .dataframe tbody tr th {\n",
              "        vertical-align: top;\n",
              "    }\n",
              "\n",
              "    .dataframe thead th {\n",
              "        text-align: right;\n",
              "    }\n",
              "</style>\n",
              "<table border=\"1\" class=\"dataframe\">\n",
              "  <thead>\n",
              "    <tr style=\"text-align: right;\">\n",
              "      <th></th>\n",
              "      <th>TMAX</th>\n",
              "      <th>TMIN</th>\n",
              "      <th>2015 TMAX</th>\n",
              "      <th>2015 TMIN</th>\n",
              "      <th>NEW MAX</th>\n",
              "      <th>NEW MIN</th>\n",
              "    </tr>\n",
              "    <tr>\n",
              "      <th>m_date</th>\n",
              "      <th></th>\n",
              "      <th></th>\n",
              "      <th></th>\n",
              "      <th></th>\n",
              "      <th></th>\n",
              "      <th></th>\n",
              "    </tr>\n",
              "  </thead>\n",
              "  <tbody>\n",
              "    <tr>\n",
              "      <th>01-01</th>\n",
              "      <td>5.95</td>\n",
              "      <td>-8.77</td>\n",
              "      <td>1.1</td>\n",
              "      <td>-13.3</td>\n",
              "      <td>False</td>\n",
              "      <td>True</td>\n",
              "    </tr>\n",
              "    <tr>\n",
              "      <th>01-02</th>\n",
              "      <td>5.06</td>\n",
              "      <td>-13.15</td>\n",
              "      <td>3.9</td>\n",
              "      <td>-12.2</td>\n",
              "      <td>False</td>\n",
              "      <td>False</td>\n",
              "    </tr>\n",
              "    <tr>\n",
              "      <th>01-03</th>\n",
              "      <td>2.95</td>\n",
              "      <td>-12.71</td>\n",
              "      <td>3.9</td>\n",
              "      <td>-6.7</td>\n",
              "      <td>True</td>\n",
              "      <td>False</td>\n",
              "    </tr>\n",
              "    <tr>\n",
              "      <th>01-04</th>\n",
              "      <td>2.92</td>\n",
              "      <td>-11.55</td>\n",
              "      <td>4.4</td>\n",
              "      <td>-8.8</td>\n",
              "      <td>True</td>\n",
              "      <td>False</td>\n",
              "    </tr>\n",
              "    <tr>\n",
              "      <th>01-05</th>\n",
              "      <td>4.72</td>\n",
              "      <td>-9.82</td>\n",
              "      <td>2.8</td>\n",
              "      <td>-15.5</td>\n",
              "      <td>False</td>\n",
              "      <td>True</td>\n",
              "    </tr>\n",
              "    <tr>\n",
              "      <th>...</th>\n",
              "      <td>...</td>\n",
              "      <td>...</td>\n",
              "      <td>...</td>\n",
              "      <td>...</td>\n",
              "      <td>...</td>\n",
              "      <td>...</td>\n",
              "    </tr>\n",
              "    <tr>\n",
              "      <th>12-27</th>\n",
              "      <td>6.45</td>\n",
              "      <td>-7.43</td>\n",
              "      <td>8.3</td>\n",
              "      <td>-0.6</td>\n",
              "      <td>True</td>\n",
              "      <td>False</td>\n",
              "    </tr>\n",
              "    <tr>\n",
              "      <th>12-28</th>\n",
              "      <td>7.38</td>\n",
              "      <td>-8.36</td>\n",
              "      <td>6.1</td>\n",
              "      <td>-3.9</td>\n",
              "      <td>False</td>\n",
              "      <td>False</td>\n",
              "    </tr>\n",
              "    <tr>\n",
              "      <th>12-29</th>\n",
              "      <td>6.39</td>\n",
              "      <td>-8.41</td>\n",
              "      <td>10.0</td>\n",
              "      <td>-3.9</td>\n",
              "      <td>True</td>\n",
              "      <td>False</td>\n",
              "    </tr>\n",
              "    <tr>\n",
              "      <th>12-30</th>\n",
              "      <td>6.05</td>\n",
              "      <td>-8.77</td>\n",
              "      <td>6.7</td>\n",
              "      <td>-2.2</td>\n",
              "      <td>True</td>\n",
              "      <td>False</td>\n",
              "    </tr>\n",
              "    <tr>\n",
              "      <th>12-31</th>\n",
              "      <td>4.61</td>\n",
              "      <td>-8.75</td>\n",
              "      <td>1.7</td>\n",
              "      <td>-5.6</td>\n",
              "      <td>False</td>\n",
              "      <td>False</td>\n",
              "    </tr>\n",
              "  </tbody>\n",
              "</table>\n",
              "<p>365 rows × 6 columns</p>\n",
              "</div>"
            ],
            "text/plain": [
              "        TMAX   TMIN  2015 TMAX  2015 TMIN  NEW MAX  NEW MIN\n",
              "m_date                                                     \n",
              "01-01   5.95  -8.77        1.1      -13.3    False     True\n",
              "01-02   5.06 -13.15        3.9      -12.2    False    False\n",
              "01-03   2.95 -12.71        3.9       -6.7     True    False\n",
              "01-04   2.92 -11.55        4.4       -8.8     True    False\n",
              "01-05   4.72  -9.82        2.8      -15.5    False     True\n",
              "...      ...    ...        ...        ...      ...      ...\n",
              "12-27   6.45  -7.43        8.3       -0.6     True    False\n",
              "12-28   7.38  -8.36        6.1       -3.9    False    False\n",
              "12-29   6.39  -8.41       10.0       -3.9     True    False\n",
              "12-30   6.05  -8.77        6.7       -2.2     True    False\n",
              "12-31   4.61  -8.75        1.7       -5.6    False    False\n",
              "\n",
              "[365 rows x 6 columns]"
            ]
          },
          "metadata": {
            "tags": []
          },
          "execution_count": 129
        }
      ]
    },
    {
      "cell_type": "code",
      "metadata": {
        "id": "nTnZ-bzOT75q",
        "colab_type": "code",
        "colab": {}
      },
      "source": [
        "prev_years.index = pd.to_datetime(prev_years.index,format='%m-%d') "
      ],
      "execution_count": 0,
      "outputs": []
    },
    {
      "cell_type": "code",
      "metadata": {
        "id": "yQavkleMvggQ",
        "colab_type": "code",
        "colab": {}
      },
      "source": [
        "dates = list(prev_years.index) \n",
        "max_val = list(prev_years[\"TMAX\"]) \n",
        "min_val = list(prev_years[\"TMIN\"])\n",
        "\n",
        "current_max = prev_years[prev_years[\"NEW MAX\"]==True][\"2015 TMAX\"]\n",
        "current_min = prev_years[prev_years[\"NEW MIN\"]==True][\"2015 TMIN\"]"
      ],
      "execution_count": 0,
      "outputs": []
    },
    {
      "cell_type": "code",
      "metadata": {
        "id": "fZecF3TpctI1",
        "colab_type": "code",
        "outputId": "5e7e468d-288d-48a3-e402-2cf303ba8c72",
        "colab": {
          "base_uri": "https://localhost:8080/",
          "height": 750
        }
      },
      "source": [
        "plt.figure(num=None, figsize=(20, 12))\n",
        "\n",
        "x = plt.gca().xaxis\n",
        "\n",
        "plt.title('Temperature Summary Near Ann Arbor')\n",
        "plt.ylabel('Temperature - Degrees C')\n",
        "plt.xlabel('Month') \n",
        "\n",
        "xtick_locator = mdates.MonthLocator()\n",
        "xtick_formatter = mdates.DateFormatter('%b')\n",
        "\n",
        "x.set_major_locator(xtick_locator)\n",
        "x.set_major_formatter(xtick_formatter)\n",
        "\n",
        "plt.plot(dates, max_val,'',c='red',label = 'Maximum temperature 2005 - 2014' )\n",
        "plt.plot(dates,min_val ,'',c=\"blue\",label = 'Minimum temperature 2005 - 2014')\n",
        "\n",
        "# broking prev record\n",
        "plt.plot(list(current_max.index),list(current_max),  '.', c =\"orange\",label = 'New max in 2015')\n",
        "plt.plot(list(current_min.index),list(current_min),  '.', c =\"purple\",label = 'New min in 2015')\n",
        "\n",
        "plt.legend(loc = 4, frameon = False)\n",
        "plt.gca().fill_between(dates, \n",
        "                        max_val, min_val, \n",
        "                        facecolor='grey', \n",
        "                        alpha=0.25)\n",
        "plt.savefig('foo.png')"
      ],
      "execution_count": 0,
      "outputs": [
        {
          "output_type": "display_data",
          "data": {
            "image/png": "[encoded data removed]",
            "text/plain": [
              "<Figure size 1440x864 with 1 Axes>"
            ]
          },
          "metadata": {
            "tags": []
          }
        }
      ]
    },
    {
      "cell_type": "code",
      "metadata": {
        "id": "VxfggFkU0i4S",
        "colab_type": "code",
        "outputId": "bf52277f-9d2c-4677-d647-c5233c7d533c",
        "colab": {
          "base_uri": "https://localhost:8080/",
          "height": 34
        }
      },
      "source": [
        ""
      ],
      "execution_count": 0,
      "outputs": [
        {
          "output_type": "display_data",
          "data": {
            "text/plain": [
              "<Figure size 432x288 with 0 Axes>"
            ]
          },
          "metadata": {
            "tags": []
          }
        }
      ]
    }
  ]
}
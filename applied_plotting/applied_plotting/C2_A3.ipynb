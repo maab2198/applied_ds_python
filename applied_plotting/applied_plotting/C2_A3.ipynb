{
  "nbformat": 4,
  "nbformat_minor": 0,
  "metadata": {
    "kernelspec": {
      "display_name": "Python 3",
      "language": "python",
      "name": "python3"
    },
    "language_info": {
      "codemirror_mode": {
        "name": "ipython",
        "version": 3
      },
      "file_extension": ".py",
      "mimetype": "text/x-python",
      "name": "python",
      "nbconvert_exporter": "python",
      "pygments_lexer": "ipython3",
      "version": "3.6.2"
    },
    "colab": {
      "name": "C2_A3.ipynb",
      "provenance": []
    }
  },
  "cells": [
    {
      "cell_type": "markdown",
      "metadata": {
        "id": "T6PrOQbIjc3K",
        "colab_type": "text"
      },
      "source": [
        "# Assignment 3 - Building a Custom Visualization\n",
        "\n",
        "---\n",
        "\n",
        "In this assignment you must choose one of the options presented below and submit a visual as well as your source code for peer grading. The details of how you solve the assignment are up to you, although your assignment must use matplotlib so that your peers can evaluate your work. The options differ in challenge level, but there are no grades associated with the challenge level you chose. However, your peers will be asked to ensure you at least met a minimum quality for a given technique in order to pass. Implement the technique fully (or exceed it!) and you should be able to earn full grades for the assignment.\n",
        "\n",
        "\n",
        "&nbsp;&nbsp;&nbsp;&nbsp;&nbsp;&nbsp;Ferreira, N., Fisher, D., & Konig, A. C. (2014, April). [Sample-oriented task-driven visualizations: allowing users to make better, more confident decisions.](https://www.microsoft.com/en-us/research/wp-content/uploads/2016/02/Ferreira_Fisher_Sample_Oriented_Tasks.pdf) \n",
        "&nbsp;&nbsp;&nbsp;&nbsp;&nbsp;&nbsp;In Proceedings of the SIGCHI Conference on Human Factors in Computing Systems (pp. 571-580). ACM. ([video](https://www.youtube.com/watch?v=BI7GAs-va-Q))\n",
        "\n",
        "\n",
        "In this [paper](https://www.microsoft.com/en-us/research/wp-content/uploads/2016/02/Ferreira_Fisher_Sample_Oriented_Tasks.pdf) the authors describe the challenges users face when trying to make judgements about probabilistic data generated through samples. As an example, they look at a bar chart of four years of data (replicated below in Figure 1). Each year has a y-axis value, which is derived from a sample of a larger dataset. For instance, the first value might be the number votes in a given district or riding for 1992, with the average being around 33,000. On top of this is plotted the 95% confidence interval for the mean (see the boxplot lectures for more information, and the yerr parameter of barcharts).\n",
        "\n",
        "<br>\n",
        "<img src=\"https://github.com/maab2198/applied_ds_python/blob/course2/applied_plotting/readonly/Assignment3Fig1.png?raw=1\" alt=\"Figure 1\" style=\"width: 400px;\"/>\n",
        "<h4 style=\"text-align: center;\" markdown=\"1\">  &nbsp;&nbsp;&nbsp;&nbsp;&nbsp;&nbsp;&nbsp;&nbsp;Figure 1 from (Ferreira et al, 2014).</h4>\n",
        "\n",
        "<br>\n",
        "\n",
        "A challenge that users face is that, for a given y-axis value (e.g. 42,000), it is difficult to know which x-axis values are most likely to be representative, because the confidence levels overlap and their distributions are different (the lengths of the confidence interval bars are unequal). One of the solutions the authors propose for this problem (Figure 2c) is to allow users to indicate the y-axis value of interest (e.g. 42,000) and then draw a horizontal line and color bars based on this value. So bars might be colored red if they are definitely above this value (given the confidence interval), blue if they are definitely below this value, or white if they contain this value.\n",
        "\n",
        "\n",
        "<br>\n",
        "<img src=\"https://github.com/maab2198/applied_ds_python/blob/course2/applied_plotting/readonly/Assignment3Fig2c.png?raw=1\" alt=\"Figure 1\" style=\"width: 400px;\"/>\n",
        "<h4 style=\"text-align: center;\" markdown=\"1\">  Figure 2c from (Ferreira et al. 2014). Note that the colorbar legend at the bottom as well as the arrows are not required in the assignment descriptions below.</h4>\n",
        "\n",
        "<br>\n",
        "<br>\n",
        "\n",
        "**Easiest option:** Implement the bar coloring as described above - a color scale with only three colors, (e.g. blue, white, and red). Assume the user provides the y axis value of interest as a parameter or variable.\n",
        "\n",
        "\n",
        "**Harder option:** Implement the bar coloring as described in the paper, where the color of the bar is actually based on the amount of data covered (e.g. a gradient ranging from dark blue for the distribution being certainly below this y-axis, to white if the value is certainly contained, to dark red if the value is certainly not contained as the distribution is above the axis).\n",
        "\n",
        "**Even Harder option:** Add interactivity to the above, which allows the user to click on the y axis to set the value of interest. The bar colors should change with respect to what value the user has selected.\n",
        "\n",
        "**Hardest option:** Allow the user to interactively set a range of y values they are interested in, and recolor based on this (e.g. a y-axis band, see the paper for more details).\n",
        "\n",
        "---\n",
        "\n",
        "*Note: The data given for this assignment is not the same as the data used in the article and as a result the visualizations may look a little different.*"
      ]
    },
    {
      "cell_type": "code",
      "metadata": {
        "id": "J4fq1-CIjc3P",
        "colab_type": "code",
        "colab": {
          "base_uri": "https://localhost:8080/",
          "height": 80
        },
        "outputId": "9ddb8317-349e-4883-e715-e38a4625a608"
      },
      "source": [
        "# Use the following data for this assignment:\n",
        "\n",
        "import pandas as pd\n",
        "import numpy as np\n",
        "import matplotlib.pyplot as plt\n",
        "from scipy import stats\n",
        "\n",
        "np.random.seed(12345)\n",
        "\n",
        "df = pd.DataFrame([np.random.normal(32000,200000,3650), \n",
        "                   np.random.normal(43000,100000,3650), \n",
        "                   np.random.normal(43500,140000,3650), \n",
        "                   np.random.normal(48000,70000,3650)], \n",
        "                  index=[1992,1993,1994,1995])\n",
        "df.T\n",
        "\n",
        "copy.agg([ 'max'])"
      ],
      "execution_count": 126,
      "outputs": [
        {
          "output_type": "execute_result",
          "data": {
            "text/html": [
              "<div>\n",
              "<style scoped>\n",
              "    .dataframe tbody tr th:only-of-type {\n",
              "        vertical-align: middle;\n",
              "    }\n",
              "\n",
              "    .dataframe tbody tr th {\n",
              "        vertical-align: top;\n",
              "    }\n",
              "\n",
              "    .dataframe thead th {\n",
              "        text-align: right;\n",
              "    }\n",
              "</style>\n",
              "<table border=\"1\" class=\"dataframe\">\n",
              "  <thead>\n",
              "    <tr style=\"text-align: right;\">\n",
              "      <th></th>\n",
              "      <th>1992</th>\n",
              "      <th>1993</th>\n",
              "      <th>1994</th>\n",
              "      <th>1995</th>\n",
              "    </tr>\n",
              "  </thead>\n",
              "  <tbody>\n",
              "    <tr>\n",
              "      <th>max</th>\n",
              "      <td>817505.608159</td>\n",
              "      <td>395586.505068</td>\n",
              "      <td>490091.665037</td>\n",
              "      <td>320826.888044</td>\n",
              "    </tr>\n",
              "  </tbody>\n",
              "</table>\n",
              "</div>"
            ],
            "text/plain": [
              "              1992           1993           1994           1995\n",
              "max  817505.608159  395586.505068  490091.665037  320826.888044"
            ]
          },
          "metadata": {
            "tags": []
          },
          "execution_count": 126
        }
      ]
    },
    {
      "cell_type": "code",
      "metadata": {
        "id": "bEgOUOSCH8Bs",
        "colab_type": "code",
        "colab": {
          "base_uri": "https://localhost:8080/",
          "height": 102
        },
        "outputId": "709662bd-6cf4-416a-a62e-b11287d5443c"
      },
      "source": [
        "mean = df.mean(axis = 1)\n",
        "std = df.std(axis = 1)\n",
        "yerr =  std / np.sqrt(df.shape[1]) * stats.t.ppf(0.95, df.shape[1]-1)\n",
        "print(yerr)"
      ],
      "execution_count": 67,
      "outputs": [
        {
          "output_type": "stream",
          "text": [
            "1992    5463.726096\n",
            "1993    2679.655339\n",
            "1994    3822.655522\n",
            "1995    1900.331809\n",
            "dtype: float64\n"
          ],
          "name": "stdout"
        }
      ]
    },
    {
      "cell_type": "markdown",
      "metadata": {
        "id": "qOAsJ_SsPcr8",
        "colab_type": "text"
      },
      "source": [
        "calculate mean m and margin of error yerr for each of the rows in the data frame\n",
        "PS. yerr =the margin of error\n",
        "\n",
        "where margin of error = standard error* C (C is a constant determined by the 95% (Critical value or T-value of 95% of a normal distribution) i.e.abs(qnorm( (1-.95)/2 percentile)), for a normal distribution C is approximately 1.96\n",
        "\n",
        "and the standard error of the sampling distribution is std_sample/sqrt(Number of samples)\n"
      ]
    },
    {
      "cell_type": "code",
      "metadata": {
        "id": "qa8cqpsyW6Ww",
        "colab_type": "code",
        "colab": {}
      },
      "source": [
        "def mean_confidence_interval(data, confidence=0.95):\n",
        "    n = data.shape[1]\n",
        "    m = data.mean(axis=1)\n",
        "    se = data.std(axis = 1)/np.sqrt(n)\n",
        "    h = se * stats.norm.ppf((1 - confidence) / 2.)\n",
        "    conf_ints = [stats.norm.interval(confidence, loc=mu, scale=SE) for mu, SE in zip(mean, se)]\n",
        "    return m,h, conf_ints\n",
        "\n",
        "def bar_color(y,heigh):\n",
        "    if y < heigh:\n",
        "        return \"red\"\n",
        "    elif y > heigh:\n",
        "        return \"blue\"\n",
        "    else:\n",
        "        return \"green\"\n",
        "def prob_over_y(y, c_interval):\n",
        "    if y < np.min(c_interval):\n",
        "        prob = 1.0\n",
        "    elif y > np.max(c_interval):\n",
        "        prob = 0.0\n",
        "    else:\n",
        "        prob = (np.max(c_interval) - y) / (np.max(c_interval) - np.min(c_interval))\n",
        "    return prob"
      ],
      "execution_count": 0,
      "outputs": []
    },
    {
      "cell_type": "code",
      "metadata": {
        "id": "8g65_EninJzq",
        "colab_type": "code",
        "colab": {}
      },
      "source": [
        "def onclick(event):\n",
        "    plt.cla()\n",
        "    y = event.ydata\n",
        "    plt.gca().axhline(y = y , color = \"grey\", alpha = 1)\n",
        "    probs = [prob_over_y(y, c_interval) for c_interval in conf_ints]\n",
        "    plt.bar(range(df.shape[0]), mean, yerr= yerr, color=cpick.to_rgba(probs))\n",
        "    plt.show()\n"
      ],
      "execution_count": 0,
      "outputs": []
    },
    {
      "cell_type": "code",
      "metadata": {
        "id": "EH6IPju7oEWO",
        "colab_type": "code",
        "colab": {
          "base_uri": "https://localhost:8080/",
          "height": 299
        },
        "outputId": "84abf414-8b69-4da0-dee8-4ae5d585574a"
      },
      "source": [
        "mean, yerr,intervals = mean_confidence_interval(df)\n",
        "\n",
        "cmap = cm.get_cmap('plasma')\n",
        "cpick = cm.ScalarMappable(cmap=cmap, norm=colors.Normalize(vmin=0, vmax=1.0))\n",
        "cpick.set_array([])\n",
        "\n",
        "plt.figure()\n",
        "\n",
        "probs = [prob_over_y(y, c_interval) for c_interval in intervals]\n",
        "plt.bar(range(df.shape[0]), mean, yerr= yerr, color=cpick.to_rgba(probs))\n",
        "\n",
        "\n",
        "threshold=42000\n",
        "plt.axhline(y = threshold, color = \"grey\", alpha = 1)\n",
        "\n",
        "plt.xticks(range(df.shape[0]), ['1992', '1993', '1994', '1995'], alpha = 0.8)\n",
        "plt.title('Ferreira et al, 2014')\n",
        "cbar = plt.colorbar(cpick, orientation=\"horizontal\")\n",
        "plt.show()\n",
        "\n",
        "plt.gcf().canvas.mpl_connect('button_press_event', onclick)\n"
      ],
      "execution_count": 130,
      "outputs": [
        {
          "output_type": "display_data",
          "data": {
            "image/png": "[encoded data removed]",
            "text/plain": [
              "<Figure size 432x288 with 2 Axes>"
            ]
          },
          "metadata": {
            "tags": []
          }
        },
        {
          "output_type": "execute_result",
          "data": {
            "text/plain": [
              "5"
            ]
          },
          "metadata": {
            "tags": []
          },
          "execution_count": 130
        },
        {
          "output_type": "display_data",
          "data": {
            "text/plain": [
              "<Figure size 432x288 with 0 Axes>"
            ]
          },
          "metadata": {
            "tags": []
          }
        }
      ]
    }
  ]
}